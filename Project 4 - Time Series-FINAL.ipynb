{
 "cells": [
  {
   "cell_type": "markdown",
   "metadata": {},
   "source": [
    "# Project 4 - Time Series Analysis - FINAL"
   ]
  },
  {
   "cell_type": "markdown",
   "metadata": {},
   "source": [
    "## Sophie Wu"
   ]
  },
  {
   "cell_type": "markdown",
   "metadata": {},
   "source": [
    "## 1. Brief\n",
    "**[Potential use of findings / project motivation]** <br>\n",
    "UBS's Global Research department makes stock recommendations based on company and sector fundamental analysis.\n",
    "Europe Food Retailers is a sector covered by the department with combined market capitalisation >EUR100bn. Within Europe, the UK Food Retail sector is particularly competitive as is evidenced by the supermarket price war in 2014/15. Pricing pressure weighs on company top line (revenue), profitability (food retailers are also highly operationally leveraged) and by extension company valuation. UK Food CPI is an useful macro indicator to track for forecasting food retailers' top line growth. Given data published by ONS is lagged by 1 month, we see a need to forecast UK CPI (Food) index. \n",
    "\n",
    "**[Data questions]**<br>\n",
    "With this in mind, this data analysis project aims to achieve the below:<br>\n",
    "1) Determine whether univariate models using only historical UK CPI data are adequate for predicting future CPI level within 0.50% error (as measure by %Mean Absolute Error). We set the error tolerance to 0.50%, given average historical monthly food inflation has been c.0.50% for the past 30 years in the UK, so any models with errors greater than this level would not be useful to be used as input for company topline forecasting."
   ]
  },
  {
   "cell_type": "markdown",
   "metadata": {},
   "source": [
    "## 2. Load libraries"
   ]
  },
  {
   "cell_type": "code",
   "execution_count": 3,
   "metadata": {},
   "outputs": [],
   "source": [
    "# for data and matrix manipulation\n",
    "import pandas as pd \n",
    "import numpy as np \n",
    "\n",
    "# for data visualisation\n",
    "import matplotlib.pyplot as plt \n",
    "%matplotlib inline \n",
    "from pylab import rcParams\n",
    "from statsmodels.graphics.tsaplots import plot_acf, plot_pacf\n",
    "\n",
    "# for pathname manipulation and making http requests \n",
    "import os \n",
    "import requests \n",
    "\n",
    "# for time series analysis\n",
    "from statsmodels.tsa.seasonal import seasonal_decompose\n",
    "from statsmodels.tsa.stattools import kpss\n",
    "from statsmodels.tsa.stattools import acf\n",
    "from statsmodels.tsa.statespace.sarimax import SARIMAX\n",
    "from sklearn.metrics import mean_squared_error\n",
    "\n",
    "# grid search sarima hyperparameters\n",
    "from math import sqrt\n",
    "from multiprocessing import cpu_count\n",
    "from joblib import Parallel\n",
    "from joblib import delayed\n",
    "from warnings import catch_warnings\n",
    "from warnings import filterwarnings\n",
    "\n",
    "# for iterations\n",
    "import itertools\n",
    "\n",
    "# to filter out warnings\n",
    "import warnings\n",
    "warnings.filterwarnings(\"ignore\")\n"
   ]
  },
  {
   "cell_type": "markdown",
   "metadata": {},
   "source": [
    "## 3. Source the data\n",
    "**[Sourcing the relevant data]** <br>\n",
    "We look at CPI 01.1.Food published by the ONS. \n",
    "CPI is the official measure of inflation of consumer prices of the United Kingdom. <br>\n",
    "The classification has three levels of detail; 01.1 Food is at the group or three-digit level and captures consumer prices of items such as: bread and cereals, meat, fish, milk cheese and eggs, oils and fats, fruit, vegs, and sugar. <br>\n",
    "The CPI dataset contains a series of float values representing the CPI level, with associated timestamps.\n",
    "\n",
    "**[Data sharing guidelines]** <br>\n",
    "With respect to data sharing issues and guidelines, this is an open source dataset and can be freely accessed and shared. The ONS (Office of National Statistics) is a government organisation (the executive office of the UK Statistics Authority, a non-ministerial department which reports directly to the UK Parliament)."
   ]
  },
  {
   "cell_type": "code",
   "execution_count": 2,
   "metadata": {},
   "outputs": [],
   "source": [
    "#locate data source url, download dataset and save in designated folder.\n",
    "\n",
    "url = \"https://www.ons.gov.uk/generator?format=csv&uri=/economy/inflationandpriceindices/timeseries/d7c8/mm23\"\n",
    "response = requests.get(url)\n",
    "with open(os.path.join(\"/Users/SophieMQWu/Desktop/data-fellowship/PROJECTS\", \"uk_cpi_june19.csv\"), 'wb') as f:\n",
    "    f.write(response.content)"
   ]
  },
  {
   "cell_type": "markdown",
   "metadata": {},
   "source": [
    "## 4. Explore and transform the data"
   ]
  },
  {
   "cell_type": "code",
   "execution_count": 3,
   "metadata": {},
   "outputs": [
    {
     "data": {
      "text/html": [
       "<div>\n",
       "<style scoped>\n",
       "    .dataframe tbody tr th:only-of-type {\n",
       "        vertical-align: middle;\n",
       "    }\n",
       "\n",
       "    .dataframe tbody tr th {\n",
       "        vertical-align: top;\n",
       "    }\n",
       "\n",
       "    .dataframe thead th {\n",
       "        text-align: right;\n",
       "    }\n",
       "</style>\n",
       "<table border=\"1\" class=\"dataframe\">\n",
       "  <thead>\n",
       "    <tr style=\"text-align: right;\">\n",
       "      <th></th>\n",
       "      <th>Title</th>\n",
       "      <th>CPI INDEX 01.1 : FOOD 2015=100</th>\n",
       "    </tr>\n",
       "  </thead>\n",
       "  <tbody>\n",
       "    <tr>\n",
       "      <th>0</th>\n",
       "      <td>CDID</td>\n",
       "      <td>D7C8</td>\n",
       "    </tr>\n",
       "    <tr>\n",
       "      <th>1</th>\n",
       "      <td>Source dataset ID</td>\n",
       "      <td>MM23</td>\n",
       "    </tr>\n",
       "    <tr>\n",
       "      <th>2</th>\n",
       "      <td>PreUnit</td>\n",
       "      <td>NaN</td>\n",
       "    </tr>\n",
       "    <tr>\n",
       "      <th>3</th>\n",
       "      <td>Unit</td>\n",
       "      <td>Index, base year = 100</td>\n",
       "    </tr>\n",
       "    <tr>\n",
       "      <th>4</th>\n",
       "      <td>Release date</td>\n",
       "      <td>17-07-2019</td>\n",
       "    </tr>\n",
       "    <tr>\n",
       "      <th>5</th>\n",
       "      <td>Next release</td>\n",
       "      <td>14 August 2019</td>\n",
       "    </tr>\n",
       "    <tr>\n",
       "      <th>6</th>\n",
       "      <td>Important notes</td>\n",
       "      <td>NaN</td>\n",
       "    </tr>\n",
       "    <tr>\n",
       "      <th>7</th>\n",
       "      <td>1988</td>\n",
       "      <td>48.8</td>\n",
       "    </tr>\n",
       "    <tr>\n",
       "      <th>8</th>\n",
       "      <td>1989</td>\n",
       "      <td>51.6</td>\n",
       "    </tr>\n",
       "    <tr>\n",
       "      <th>9</th>\n",
       "      <td>1990</td>\n",
       "      <td>55.7</td>\n",
       "    </tr>\n",
       "  </tbody>\n",
       "</table>\n",
       "</div>"
      ],
      "text/plain": [
       "               Title CPI INDEX 01.1 : FOOD 2015=100\n",
       "0               CDID                           D7C8\n",
       "1  Source dataset ID                           MM23\n",
       "2            PreUnit                            NaN\n",
       "3               Unit         Index, base year = 100\n",
       "4       Release date                     17-07-2019\n",
       "5       Next release                 14 August 2019\n",
       "6    Important notes                            NaN\n",
       "7               1988                           48.8\n",
       "8               1989                           51.6\n",
       "9               1990                           55.7"
      ]
     },
     "execution_count": 3,
     "metadata": {},
     "output_type": "execute_result"
    }
   ],
   "source": [
    "df = pd.read_csv(\"uk_cpi_june19.csv\")\n",
    "df.head(10)"
   ]
  },
  {
   "cell_type": "code",
   "execution_count": 25,
   "metadata": {},
   "outputs": [
    {
     "data": {
      "text/html": [
       "<div>\n",
       "<style scoped>\n",
       "    .dataframe tbody tr th:only-of-type {\n",
       "        vertical-align: middle;\n",
       "    }\n",
       "\n",
       "    .dataframe tbody tr th {\n",
       "        vertical-align: top;\n",
       "    }\n",
       "\n",
       "    .dataframe thead th {\n",
       "        text-align: right;\n",
       "    }\n",
       "</style>\n",
       "<table border=\"1\" class=\"dataframe\">\n",
       "  <thead>\n",
       "    <tr style=\"text-align: right;\">\n",
       "      <th></th>\n",
       "      <th>Important notes</th>\n",
       "      <th>Unnamed: 1</th>\n",
       "    </tr>\n",
       "  </thead>\n",
       "  <tbody>\n",
       "    <tr>\n",
       "      <th>0</th>\n",
       "      <td>1988</td>\n",
       "      <td>48.8</td>\n",
       "    </tr>\n",
       "    <tr>\n",
       "      <th>1</th>\n",
       "      <td>1989</td>\n",
       "      <td>51.6</td>\n",
       "    </tr>\n",
       "    <tr>\n",
       "      <th>2</th>\n",
       "      <td>1990</td>\n",
       "      <td>55.7</td>\n",
       "    </tr>\n",
       "    <tr>\n",
       "      <th>3</th>\n",
       "      <td>1991</td>\n",
       "      <td>58.6</td>\n",
       "    </tr>\n",
       "    <tr>\n",
       "      <th>4</th>\n",
       "      <td>1992</td>\n",
       "      <td>59.5</td>\n",
       "    </tr>\n",
       "  </tbody>\n",
       "</table>\n",
       "</div>"
      ],
      "text/plain": [
       "  Important notes  Unnamed: 1\n",
       "0            1988        48.8\n",
       "1            1989        51.6\n",
       "2            1990        55.7\n",
       "3            1991        58.6\n",
       "4            1992        59.5"
      ]
     },
     "execution_count": 25,
     "metadata": {},
     "output_type": "execute_result"
    }
   ],
   "source": [
    "# We remove the firt 7 rows of the dataframe which is not part of the actual data series.\n",
    "df = pd.read_csv(\"uk_cpi_june19.csv\", skiprows = 7)\n",
    "df.head()"
   ]
  },
  {
   "cell_type": "code",
   "execution_count": 26,
   "metadata": {},
   "outputs": [
    {
     "name": "stdout",
     "output_type": "stream",
     "text": [
      "Index(['Important notes', 'Unnamed: 1'], dtype='object')\n"
     ]
    }
   ],
   "source": [
    "print(df.columns)"
   ]
  },
  {
   "cell_type": "code",
   "execution_count": 27,
   "metadata": {},
   "outputs": [
    {
     "data": {
      "text/html": [
       "<div>\n",
       "<style scoped>\n",
       "    .dataframe tbody tr th:only-of-type {\n",
       "        vertical-align: middle;\n",
       "    }\n",
       "\n",
       "    .dataframe tbody tr th {\n",
       "        vertical-align: top;\n",
       "    }\n",
       "\n",
       "    .dataframe thead th {\n",
       "        text-align: right;\n",
       "    }\n",
       "</style>\n",
       "<table border=\"1\" class=\"dataframe\">\n",
       "  <thead>\n",
       "    <tr style=\"text-align: right;\">\n",
       "      <th></th>\n",
       "      <th>date</th>\n",
       "      <th>index</th>\n",
       "    </tr>\n",
       "  </thead>\n",
       "  <tbody>\n",
       "    <tr>\n",
       "      <th>0</th>\n",
       "      <td>1988</td>\n",
       "      <td>48.8</td>\n",
       "    </tr>\n",
       "    <tr>\n",
       "      <th>1</th>\n",
       "      <td>1989</td>\n",
       "      <td>51.6</td>\n",
       "    </tr>\n",
       "    <tr>\n",
       "      <th>2</th>\n",
       "      <td>1990</td>\n",
       "      <td>55.7</td>\n",
       "    </tr>\n",
       "    <tr>\n",
       "      <th>3</th>\n",
       "      <td>1991</td>\n",
       "      <td>58.6</td>\n",
       "    </tr>\n",
       "    <tr>\n",
       "      <th>4</th>\n",
       "      <td>1992</td>\n",
       "      <td>59.5</td>\n",
       "    </tr>\n",
       "  </tbody>\n",
       "</table>\n",
       "</div>"
      ],
      "text/plain": [
       "   date  index\n",
       "0  1988   48.8\n",
       "1  1989   51.6\n",
       "2  1990   55.7\n",
       "3  1991   58.6\n",
       "4  1992   59.5"
      ]
     },
     "execution_count": 27,
     "metadata": {},
     "output_type": "execute_result"
    }
   ],
   "source": [
    "# Rename columns as 'date' and 'index'\n",
    "df = df.rename(columns={'Important notes': 'date', 'Unnamed: 1':'index'})\n",
    "df.head()"
   ]
  },
  {
   "cell_type": "code",
   "execution_count": 28,
   "metadata": {},
   "outputs": [
    {
     "data": {
      "text/plain": [
       "(535, 2)"
      ]
     },
     "execution_count": 28,
     "metadata": {},
     "output_type": "execute_result"
    }
   ],
   "source": [
    "df.shape"
   ]
  },
  {
   "cell_type": "markdown",
   "metadata": {},
   "source": [
    "Consumer price data starts in 1988. And we know, from the original 'df.head()' that the data goes up to July-2019.\n",
    "From the output we can see that the table contains 535 rows and 2 columns, suggesting the dataframe might contain data other than annual consumer prices, e.g. monthly data."
   ]
  },
  {
   "cell_type": "code",
   "execution_count": 8,
   "metadata": {},
   "outputs": [
    {
     "name": "stdout",
     "output_type": "stream",
     "text": [
      "<class 'pandas.core.frame.DataFrame'>\n",
      "RangeIndex: 535 entries, 0 to 534\n",
      "Data columns (total 2 columns):\n",
      "date     535 non-null object\n",
      "index    535 non-null float64\n",
      "dtypes: float64(1), object(1)\n",
      "memory usage: 8.4+ KB\n"
     ]
    }
   ],
   "source": [
    "df.info()"
   ]
  },
  {
   "cell_type": "markdown",
   "metadata": {},
   "source": [
    "We see that there are no misssing value in the dataframe. As the number of observations for each column is 535, same number of rows we saw before in `shape`. However, the data type for 'date' is `object`, we were expecting numerical or datetime type. A quick look at a sample of data in the line below shows that the dataframe contains annual, quarterly and monthly data."
   ]
  },
  {
   "cell_type": "code",
   "execution_count": 9,
   "metadata": {},
   "outputs": [
    {
     "name": "stdout",
     "output_type": "stream",
     "text": [
      "         date  index\n",
      "506  2017 FEB   98.9\n",
      "111   2008 Q1   79.7\n",
      "352  2004 APR   70.5\n",
      "341  2003 MAY   69.8\n",
      "58    1994 Q4   61.1\n",
      "220  1993 APR   60.7\n",
      "279  1998 MAR   64.3\n",
      "198  1991 JUN   59.2\n",
      "75    1999 Q1   66.3\n",
      "263  1996 NOV   64.3\n"
     ]
    }
   ],
   "source": [
    "print(df.sample(10))"
   ]
  },
  {
   "cell_type": "markdown",
   "metadata": {},
   "source": [
    "We choose to look at monthly data, which is more likely to exhibit dynamic relations than data which are further apart. We remove yearly and quartely data from the dataframe."
   ]
  },
  {
   "cell_type": "code",
   "execution_count": 29,
   "metadata": {},
   "outputs": [],
   "source": [
    "# Keep rows with monthly data only\n",
    "months = ['JAN','FEB','MAR','APR','MAY','JUN','JUL','AUG','SEP','OCT','NOV','DEC']\n",
    "df_months = df[df['date'].str.contains('|'.join(months))]"
   ]
  },
  {
   "cell_type": "code",
   "execution_count": 30,
   "metadata": {},
   "outputs": [
    {
     "data": {
      "text/html": [
       "<div>\n",
       "<style scoped>\n",
       "    .dataframe tbody tr th:only-of-type {\n",
       "        vertical-align: middle;\n",
       "    }\n",
       "\n",
       "    .dataframe tbody tr th {\n",
       "        vertical-align: top;\n",
       "    }\n",
       "\n",
       "    .dataframe thead th {\n",
       "        text-align: right;\n",
       "    }\n",
       "</style>\n",
       "<table border=\"1\" class=\"dataframe\">\n",
       "  <thead>\n",
       "    <tr style=\"text-align: right;\">\n",
       "      <th></th>\n",
       "      <th>date</th>\n",
       "      <th>index</th>\n",
       "    </tr>\n",
       "  </thead>\n",
       "  <tbody>\n",
       "    <tr>\n",
       "      <th>157</th>\n",
       "      <td>1988 JAN</td>\n",
       "      <td>48.2</td>\n",
       "    </tr>\n",
       "    <tr>\n",
       "      <th>158</th>\n",
       "      <td>1988 FEB</td>\n",
       "      <td>48.5</td>\n",
       "    </tr>\n",
       "    <tr>\n",
       "      <th>159</th>\n",
       "      <td>1988 MAR</td>\n",
       "      <td>48.6</td>\n",
       "    </tr>\n",
       "    <tr>\n",
       "      <th>160</th>\n",
       "      <td>1988 APR</td>\n",
       "      <td>48.9</td>\n",
       "    </tr>\n",
       "    <tr>\n",
       "      <th>161</th>\n",
       "      <td>1988 MAY</td>\n",
       "      <td>49.0</td>\n",
       "    </tr>\n",
       "  </tbody>\n",
       "</table>\n",
       "</div>"
      ],
      "text/plain": [
       "         date  index\n",
       "157  1988 JAN   48.2\n",
       "158  1988 FEB   48.5\n",
       "159  1988 MAR   48.6\n",
       "160  1988 APR   48.9\n",
       "161  1988 MAY   49.0"
      ]
     },
     "execution_count": 30,
     "metadata": {},
     "output_type": "execute_result"
    }
   ],
   "source": [
    "df_months.head()"
   ]
  },
  {
   "cell_type": "code",
   "execution_count": 12,
   "metadata": {},
   "outputs": [
    {
     "name": "stdout",
     "output_type": "stream",
     "text": [
      "<class 'pandas.core.frame.DataFrame'>\n",
      "Int64Index: 378 entries, 157 to 534\n",
      "Data columns (total 2 columns):\n",
      "date     378 non-null object\n",
      "index    378 non-null float64\n",
      "dtypes: float64(1), object(1)\n",
      "memory usage: 8.9+ KB\n"
     ]
    }
   ],
   "source": [
    "df_months.info()"
   ]
  },
  {
   "cell_type": "markdown",
   "metadata": {},
   "source": [
    "Data starts from 1988 and ends in July-2019, so if we only have monthly data left in the dataframe, we should see (2018-1988+1)*12+7 = 378 observations. This is the same as the number of entries left in the dataframe. We can be reasonably sure that only monthly data remains.\n",
    "\n",
    "The datatype of 'date' is still an object'. We need to convert these into datetime type for time series analysis."
   ]
  },
  {
   "cell_type": "code",
   "execution_count": 31,
   "metadata": {},
   "outputs": [
    {
     "data": {
      "text/html": [
       "<div>\n",
       "<style scoped>\n",
       "    .dataframe tbody tr th:only-of-type {\n",
       "        vertical-align: middle;\n",
       "    }\n",
       "\n",
       "    .dataframe tbody tr th {\n",
       "        vertical-align: top;\n",
       "    }\n",
       "\n",
       "    .dataframe thead th {\n",
       "        text-align: right;\n",
       "    }\n",
       "</style>\n",
       "<table border=\"1\" class=\"dataframe\">\n",
       "  <thead>\n",
       "    <tr style=\"text-align: right;\">\n",
       "      <th></th>\n",
       "      <th>date</th>\n",
       "      <th>index</th>\n",
       "    </tr>\n",
       "  </thead>\n",
       "  <tbody>\n",
       "    <tr>\n",
       "      <th>157</th>\n",
       "      <td>1988-01-01</td>\n",
       "      <td>48.2</td>\n",
       "    </tr>\n",
       "    <tr>\n",
       "      <th>158</th>\n",
       "      <td>1988-02-01</td>\n",
       "      <td>48.5</td>\n",
       "    </tr>\n",
       "    <tr>\n",
       "      <th>159</th>\n",
       "      <td>1988-03-01</td>\n",
       "      <td>48.6</td>\n",
       "    </tr>\n",
       "    <tr>\n",
       "      <th>160</th>\n",
       "      <td>1988-04-01</td>\n",
       "      <td>48.9</td>\n",
       "    </tr>\n",
       "    <tr>\n",
       "      <th>161</th>\n",
       "      <td>1988-05-01</td>\n",
       "      <td>49.0</td>\n",
       "    </tr>\n",
       "  </tbody>\n",
       "</table>\n",
       "</div>"
      ],
      "text/plain": [
       "          date  index\n",
       "157 1988-01-01   48.2\n",
       "158 1988-02-01   48.5\n",
       "159 1988-03-01   48.6\n",
       "160 1988-04-01   48.9\n",
       "161 1988-05-01   49.0"
      ]
     },
     "execution_count": 31,
     "metadata": {},
     "output_type": "execute_result"
    }
   ],
   "source": [
    "from datetime import datetime\n",
    "df_months['date'] = pd.to_datetime(df_months['date'], format ='%Y %b')\n",
    "df_months.head()"
   ]
  },
  {
   "cell_type": "markdown",
   "metadata": {},
   "source": [
    "We set the 'date' column as the index."
   ]
  },
  {
   "cell_type": "code",
   "execution_count": 32,
   "metadata": {},
   "outputs": [],
   "source": [
    "df_months.set_index('date', inplace = True)"
   ]
  },
  {
   "cell_type": "code",
   "execution_count": 33,
   "metadata": {},
   "outputs": [
    {
     "data": {
      "text/html": [
       "<div>\n",
       "<style scoped>\n",
       "    .dataframe tbody tr th:only-of-type {\n",
       "        vertical-align: middle;\n",
       "    }\n",
       "\n",
       "    .dataframe tbody tr th {\n",
       "        vertical-align: top;\n",
       "    }\n",
       "\n",
       "    .dataframe thead th {\n",
       "        text-align: right;\n",
       "    }\n",
       "</style>\n",
       "<table border=\"1\" class=\"dataframe\">\n",
       "  <thead>\n",
       "    <tr style=\"text-align: right;\">\n",
       "      <th></th>\n",
       "      <th>index</th>\n",
       "    </tr>\n",
       "    <tr>\n",
       "      <th>date</th>\n",
       "      <th></th>\n",
       "    </tr>\n",
       "  </thead>\n",
       "  <tbody>\n",
       "    <tr>\n",
       "      <th>1988-01-01</th>\n",
       "      <td>48.2</td>\n",
       "    </tr>\n",
       "    <tr>\n",
       "      <th>1988-02-01</th>\n",
       "      <td>48.5</td>\n",
       "    </tr>\n",
       "    <tr>\n",
       "      <th>1988-03-01</th>\n",
       "      <td>48.6</td>\n",
       "    </tr>\n",
       "    <tr>\n",
       "      <th>1988-04-01</th>\n",
       "      <td>48.9</td>\n",
       "    </tr>\n",
       "    <tr>\n",
       "      <th>1988-05-01</th>\n",
       "      <td>49.0</td>\n",
       "    </tr>\n",
       "  </tbody>\n",
       "</table>\n",
       "</div>"
      ],
      "text/plain": [
       "            index\n",
       "date             \n",
       "1988-01-01   48.2\n",
       "1988-02-01   48.5\n",
       "1988-03-01   48.6\n",
       "1988-04-01   48.9\n",
       "1988-05-01   49.0"
      ]
     },
     "execution_count": 33,
     "metadata": {},
     "output_type": "execute_result"
    }
   ],
   "source": [
    "df_months.head()"
   ]
  },
  {
   "cell_type": "code",
   "execution_count": 34,
   "metadata": {},
   "outputs": [
    {
     "data": {
      "text/plain": [
       "pandas.core.series.Series"
      ]
     },
     "execution_count": 34,
     "metadata": {},
     "output_type": "execute_result"
    }
   ],
   "source": [
    "# convert 'index' into a series, ts. and check that the new variable is a pandas.Series object\n",
    "ts = df_months['index']\n",
    "type(ts)"
   ]
  },
  {
   "cell_type": "code",
   "execution_count": 35,
   "metadata": {},
   "outputs": [
    {
     "data": {
      "text/plain": [
       "date\n",
       "1988-01-01    48.2\n",
       "1988-02-01    48.5\n",
       "1988-03-01    48.6\n",
       "1988-04-01    48.9\n",
       "1988-05-01    49.0\n",
       "Name: index, dtype: float64"
      ]
     },
     "execution_count": 35,
     "metadata": {},
     "output_type": "execute_result"
    }
   ],
   "source": [
    "ts.head()"
   ]
  },
  {
   "cell_type": "code",
   "execution_count": 36,
   "metadata": {},
   "outputs": [
    {
     "data": {
      "text/plain": [
       "count    378.000000\n",
       "mean      76.168519\n",
       "std       17.168237\n",
       "min       48.200000\n",
       "25%       64.200000\n",
       "50%       69.750000\n",
       "75%       96.700000\n",
       "max      104.700000\n",
       "Name: index, dtype: float64"
      ]
     },
     "execution_count": 36,
     "metadata": {},
     "output_type": "execute_result"
    }
   ],
   "source": [
    "ts.describe()"
   ]
  },
  {
   "cell_type": "code",
   "execution_count": 19,
   "metadata": {},
   "outputs": [
    {
     "data": {
      "text/plain": [
       "<matplotlib.axes._subplots.AxesSubplot at 0x106f73198>"
      ]
     },
     "execution_count": 19,
     "metadata": {},
     "output_type": "execute_result"
    },
    {
     "data": {
      "image/png": "[encoded data removed]",
      "text/plain": [
       "<Figure size 576x360 with 1 Axes>"
      ]
     },
     "metadata": {
      "needs_background": "light"
     },
     "output_type": "display_data"
    }
   ],
   "source": [
    "# plot the data\n",
    "ts.plot(figsize = [8,5])"
   ]
  },
  {
   "cell_type": "markdown",
   "metadata": {},
   "source": [
    "The series is non-stationary usually with an upward underlying trend (mean changes with time), with the exception of between 2014 and 2016 (this could be reflect the 'supermarket price war' period that we mentioned in the brief). We expect the 'd' parameter in our ARIMA(p,d,q) ≠ 0. It's not immediately obvious whether the data exhibits seasonality. We explore further below."
   ]
  },
  {
   "cell_type": "markdown",
   "metadata": {},
   "source": [
    "## 4. Data Analysis to find ARIMA(p,d,q) parameters"
   ]
  },
  {
   "cell_type": "markdown",
   "metadata": {},
   "source": [
    "### 4.1 Decomposition"
   ]
  },
  {
   "cell_type": "markdown",
   "metadata": {},
   "source": [
    "Cursory visualisation of the data suggests the data is additive as the seasonality/residuals do not increase with the trend."
   ]
  },
  {
   "cell_type": "code",
   "execution_count": 20,
   "metadata": {},
   "outputs": [
    {
     "data": {
      "image/png": "[encoded data removed]",
      "text/plain": [
       "<Figure size 576x576 with 4 Axes>"
      ]
     },
     "metadata": {
      "needs_background": "light"
     },
     "output_type": "display_data"
    }
   ],
   "source": [
    "# seasonal_decompose time series data and visualise\n",
    "rcParams['figure.figsize'] = 8, 8\n",
    "decomposition = seasonal_decompose(ts, model='additive')\n",
    "fig = decomposition.plot()\n",
    "plt.show()"
   ]
  },
  {
   "cell_type": "markdown",
   "metadata": {},
   "source": [
    "Decomposition analysis suggests that the original data is made up of an underlying trend (i.e. non-stationary), a non-systematic residual component as well as a seasonal component in the data, which repeats on an annual basis (i.e. (freq = 12)). No noticeable pattern left over in the residuals component of the series, suggesting 'additive' model was the appropriate choice."
   ]
  },
  {
   "cell_type": "markdown",
   "metadata": {},
   "source": [
    "### 4.2 Testing for stationarity"
   ]
  },
  {
   "cell_type": "markdown",
   "metadata": {},
   "source": [
    "We commented earlier that the plot of the underlying trend suggests data is not stationary. We formally test this here with KPSS test where null hypothesis = stationary. We reject the null if p-value < 0.05. (use a 5% significance level)"
   ]
  },
  {
   "cell_type": "code",
   "execution_count": 48,
   "metadata": {},
   "outputs": [
    {
     "data": {
      "text/plain": [
       "(2.0818781692614516,\n",
       " 0.01,\n",
       " 17,\n",
       " {'10%': 0.347, '5%': 0.463, '2.5%': 0.574, '1%': 0.739})"
      ]
     },
     "execution_count": 48,
     "metadata": {},
     "output_type": "execute_result"
    }
   ],
   "source": [
    "# KPSS test on our time series\n",
    "kpss(ts)"
   ]
  },
  {
   "cell_type": "markdown",
   "metadata": {},
   "source": [
    "p-value is < significance level 5%, so we reject the null. Data is not stationary.\n",
    "We can also plot a correlogram to see this non-stationarity visually. "
   ]
  },
  {
   "cell_type": "code",
   "execution_count": 22,
   "metadata": {},
   "outputs": [
    {
     "data": {
      "image/png": "[encoded data removed]",
      "text/plain": [
       "<Figure size 576x360 with 1 Axes>"
      ]
     },
     "metadata": {
      "needs_background": "light"
     },
     "output_type": "display_data"
    }
   ],
   "source": [
    "# plotting correlogram\n",
    "rcParams['figure.figsize'] = 8, 5\n",
    "plot_acf(ts, lags = 50)\n",
    "plt.show()"
   ]
  },
  {
   "cell_type": "markdown",
   "metadata": {},
   "source": [
    "The autocorrelation function describes how well the present value of the series is related with its past values and linear decay in ACF is typical of a nonstationary time series. We also plot the PACF function below."
   ]
  },
  {
   "cell_type": "code",
   "execution_count": 23,
   "metadata": {},
   "outputs": [
    {
     "data": {
      "image/png": "[encoded data removed]",
      "text/plain": [
       "<Figure size 576x360 with 1 Axes>"
      ]
     },
     "metadata": {
      "needs_background": "light"
     },
     "output_type": "display_data"
    }
   ],
   "source": [
    "# plotting PACF\n",
    "rcParams['figure.figsize'] = 8, 5\n",
    "plot_pacf(ts, lags = 50)\n",
    "plt.show()"
   ]
  },
  {
   "cell_type": "markdown",
   "metadata": {},
   "source": [
    "We see significant spike only at lag 1, which suggests that all the higher-order correlation of this non-stationary series are merely due to the propagation of the autocorrelation at lag 1 (all the higher order autocorrelation are effectively explained by the lag-1 autocorrelation. This indicates that **in the absence of differencing, an AR(1) model should be used**. However, the AR(1) term in this model would likely turn out to be equivalent to a first difference, because the estimated AR(1) coefficient will be almost exactly equal to 1. Ŷt = μ + Yt-1 (a random walk with drift). This is also telling us that we need to first difference the series to gain stationarity."
   ]
  },
  {
   "cell_type": "markdown",
   "metadata": {},
   "source": [
    "### 4.3 Transforming the data, and determining parameters of ARIMA(p,d,q)"
   ]
  },
  {
   "cell_type": "markdown",
   "metadata": {},
   "source": [
    "ARIMA modelling requires stationarity.\n",
    "We need to transform the data to get stationarity.\n",
    "We see that the mean changes (usually increases) as time goes on, but variance appears roughly constant. \n",
    "We transform the data using first-order differencing, this will essentially give us 'monthly' inflation data, which we call 'ts_diff' below."
   ]
  },
  {
   "cell_type": "code",
   "execution_count": 24,
   "metadata": {},
   "outputs": [
    {
     "data": {
      "text/plain": [
       "date\n",
       "1988-01-01    NaN\n",
       "1988-02-01    0.3\n",
       "1988-03-01    0.1\n",
       "1988-04-01    0.3\n",
       "1988-05-01    0.1\n",
       "Name: index, dtype: float64"
      ]
     },
     "execution_count": 24,
     "metadata": {},
     "output_type": "execute_result"
    }
   ],
   "source": [
    "ts_diff = ts.diff()\n",
    "ts_diff.head()"
   ]
  },
  {
   "cell_type": "code",
   "execution_count": 25,
   "metadata": {},
   "outputs": [
    {
     "data": {
      "text/plain": [
       "date\n",
       "1988-02-01    0.3\n",
       "1988-03-01    0.1\n",
       "1988-04-01    0.3\n",
       "1988-05-01    0.1\n",
       "1988-06-01    0.0\n",
       "Name: index, dtype: float64"
      ]
     },
     "execution_count": 25,
     "metadata": {},
     "output_type": "execute_result"
    }
   ],
   "source": [
    "# remove the NaN.\n",
    "ts_diff.dropna(inplace = True)\n",
    "ts_diff.head()"
   ]
  },
  {
   "cell_type": "code",
   "execution_count": 26,
   "metadata": {},
   "outputs": [
    {
     "data": {
      "text/plain": [
       "<matplotlib.axes._subplots.AxesSubplot at 0x1c15021b00>"
      ]
     },
     "execution_count": 26,
     "metadata": {},
     "output_type": "execute_result"
    },
    {
     "data": {
      "image/png": "[encoded data removed]",
      "text/plain": [
       "<Figure size 576x360 with 1 Axes>"
      ]
     },
     "metadata": {
      "needs_background": "light"
     },
     "output_type": "display_data"
    }
   ],
   "source": [
    "# plotting the transformed series\n",
    "ts_diff.plot(figsize = [8,5])"
   ]
  },
  {
   "cell_type": "markdown",
   "metadata": {},
   "source": [
    "Appears to have removed the underlying trend in the data. We perform the KPSS test again to confirm."
   ]
  },
  {
   "cell_type": "code",
   "execution_count": 46,
   "metadata": {},
   "outputs": [
    {
     "data": {
      "text/plain": [
       "(0.10952463858058399,\n",
       " 0.1,\n",
       " 17,\n",
       " {'10%': 0.347, '5%': 0.463, '2.5%': 0.574, '1%': 0.739})"
      ]
     },
     "execution_count": 46,
     "metadata": {},
     "output_type": "execute_result"
    }
   ],
   "source": [
    "# KPSS test\n",
    "kpss(ts_diff)"
   ]
  },
  {
   "cell_type": "markdown",
   "metadata": {},
   "source": [
    "p-value is > 5% significance level, we fail to reject the null. 'inf_monthly' seems stationary."
   ]
  },
  {
   "cell_type": "code",
   "execution_count": 28,
   "metadata": {},
   "outputs": [
    {
     "data": {
      "text/plain": [
       "array([ 1.        ,  0.11816298,  0.05575827,  0.09329578, -0.02890478,\n",
       "        0.02256036,  0.13172892,  0.02113194,  0.00605028,  0.0978103 ,\n",
       "        0.03253948,  0.00626959,  0.31997375, -0.04462629,  0.02237923,\n",
       "        0.00841184, -0.01742294, -0.04080593,  0.0372601 , -0.05655454,\n",
       "       -0.00827329,  0.0338832 , -0.07539704, -0.02570453,  0.34254094,\n",
       "        0.04673904,  0.01590415,  0.02698928, -0.03776028, -0.04821358,\n",
       "        0.04400234, -0.02586365, -0.0754446 ,  0.03213201, -0.03495402,\n",
       "       -0.09749583,  0.30917635,  0.02837377, -0.02372434,  0.01387753,\n",
       "       -0.10669991])"
      ]
     },
     "execution_count": 28,
     "metadata": {},
     "output_type": "execute_result"
    }
   ],
   "source": [
    "# we get the autocorrelation values for 40 lags.\n",
    "acf(ts_diff, nlags=40)"
   ]
  },
  {
   "cell_type": "code",
   "execution_count": 29,
   "metadata": {},
   "outputs": [
    {
     "data": {
      "image/png": "[encoded data removed]",
      "text/plain": [
       "<Figure size 576x360 with 1 Axes>"
      ]
     },
     "metadata": {
      "needs_background": "light"
     },
     "output_type": "display_data"
    }
   ],
   "source": [
    "# plotting ACF\n",
    "rcParams['figure.figsize'] = 8, 5\n",
    "plot_acf(ts_diff)\n",
    "plt.xlim(0,30)\n",
    "plt.show()"
   ]
  },
  {
   "cell_type": "markdown",
   "metadata": {},
   "source": [
    "<font color='red'>================================</font> <br>\n",
    "<font color='red'> ==>> d=1 <<== (first order of differencing) </font>  <br>\n",
    "<font color='red'>================================</font> <br>\n",
    "The correct amount of differencing is the lowest order of differencing that yields a time series whose ACF plot decays fairly rapidly to zero.\n",
    "The autocorrelations here are small and patternless (barring some seasonality). First-order differencing seems adequate.\n",
    "We've identified the degree of integration required for our ARIMA(p,d,q) model.\n",
    "Correlogram also suggests that there's seasonality in the data, with autocorrelation peaking every 12 periods. When there is a strong seasonal pattern, the ACF plot usually reveals definitive repeated spikes at the multiples of the seasonal window => **we will need to use SARIMA**.\n",
    "ARIMA model does not support direct modelling of seasonal component of the series."
   ]
  },
  {
   "cell_type": "markdown",
   "metadata": {},
   "source": [
    "<font color='red'>================================</font> <br>\n",
    "<font color='red'> ==>> q=1 <<== (lag=q) </font>  <br>\n",
    "<font color='red'>================================</font> <br>\n",
    "The ACF plot, also informs us on the q parameter of the ARIMA model; how many MA terms to include.\n",
    "As a rule of thumb, order q is the lag value after which ACF crosses the upper confidence interval for the first time.\n",
    "After 1 lag, the plot is coming within critical boundaries barring repeate spikes at the multiples of the seasonal window, so we set q = 1."
   ]
  },
  {
   "cell_type": "code",
   "execution_count": 30,
   "metadata": {},
   "outputs": [
    {
     "data": {
      "image/png": "[encoded data removed]",
      "text/plain": [
       "<Figure size 576x360 with 1 Axes>"
      ]
     },
     "metadata": {
      "needs_background": "light"
     },
     "output_type": "display_data"
    }
   ],
   "source": [
    "# plotting PACF\n",
    "plot_pacf(ts_diff, lags=30)\n",
    "plt.show()"
   ]
  },
  {
   "cell_type": "markdown",
   "metadata": {},
   "source": [
    "<font color='red'>================================</font> <br>\n",
    "<font color='red'> ==>> p=1 <<== (lag=p) </font>  <br>\n",
    "<font color='red'>================================</font> <br>\n",
    "The PACF plot informs us on the p parameter of the ARMIMA model; how many ACF terms to include. \n",
    "As a rule of thumb, order p is the lag value after which ACF crosses the upper confidence interval for the first time.\n",
    "After 1 lag, the plot is coming within critical boundaries barring repeate spikes at the multiples of the seasonal window, so we set p = 1."
   ]
  },
  {
   "cell_type": "markdown",
   "metadata": {},
   "source": [
    "### 4.4 Determining hyperparameters for SARIMA(p,d,q)(P,D,Q)m"
   ]
  },
  {
   "cell_type": "markdown",
   "metadata": {},
   "source": [
    "Configuring SARIMA requires selecting hyperparameters for both trend and seasonal elements of the series.\n",
    "The seasonal part of the model consists of terms that are similar to the non-seasonal components of the model, but involve backshifts of the seasonal period.\n",
    "We know from graphical analysis that that m parameter is likely 12.\n",
    "The trend and seasonality parameters can be configured again by analysing ACF and PACF plots, or by using grid search to iteratively explore different parameters. (likely yield more reliable outcome)."
   ]
  },
  {
   "cell_type": "markdown",
   "metadata": {},
   "source": [
    "For each combination of parameters, we fit a new SARIMA model with the `SARIMAX()` function and assess the overall quality according to some criterion. The optimal set of parameters will be be the one that yields the best performance according to our criterion of interest. We use **two different methods**, the first method's criterion uses RMSE (root mean-squared-error) and the second method uses AIC (akaike information criterion which penalises the loss of degrees of freedom that occurs when a model is expanded).\n"
   ]
  },
  {
   "cell_type": "markdown",
   "metadata": {},
   "source": [
    "### 4.4.1 Grid search - method 1 - with *RMSE* as selection criterion"
   ]
  },
  {
   "cell_type": "code",
   "execution_count": 33,
   "metadata": {},
   "outputs": [],
   "source": [
    "# one-step sarima forecast\n",
    "def sarima_forecast(history, config):\n",
    "\torder, sorder, trend = config\n",
    "\t# define model\n",
    "\tmodel = SARIMAX(history, order=order, seasonal_order=sorder, trend=trend, enforce_stationarity=False, enforce_invertibility=False)\n",
    "\t# fit model\n",
    "\tmodel_fit = model.fit(disp=False)\n",
    "\t# make one step forecast\n",
    "\tyhat = model_fit.predict(len(history), len(history))\n",
    "\treturn yhat[0]"
   ]
  },
  {
   "cell_type": "code",
   "execution_count": 34,
   "metadata": {},
   "outputs": [],
   "source": [
    "# split a univariate dataset into train/test sets\n",
    "def train_test_split(data, n_test):\n",
    "\treturn data[:-n_test], data[-n_test:]"
   ]
  },
  {
   "cell_type": "code",
   "execution_count": 35,
   "metadata": {},
   "outputs": [],
   "source": [
    "# root mean squared error or rmse\n",
    "def measure_rmse(actual, predicted):\n",
    "\treturn sqrt(mean_squared_error(actual, predicted))"
   ]
  },
  {
   "cell_type": "code",
   "execution_count": 36,
   "metadata": {},
   "outputs": [],
   "source": [
    "def walk_forward_validation(data, n_test, cfg):\n",
    "\tpredictions = list()\n",
    "\t# split dataset\n",
    "\ttrain, test = train_test_split(data, n_test)\n",
    "\t# seed history with training dataset\n",
    "\thistory = [x for x in train]\n",
    "\t# step over each time-step in the test set\n",
    "\tfor i in range(len(test)):\n",
    "\t\t# fit model and make forecast for history\n",
    "\t\tyhat = sarima_forecast(history, cfg)\n",
    "\t\t# store forecast in list of predictions\n",
    "\t\tpredictions.append(yhat)\n",
    "\t\t# add actual observation to history for the next loop\n",
    "\t\thistory.append(test[i])\n",
    "\t# estimate prediction error\n",
    "\terror = measure_rmse(test, predictions)\n",
    "\treturn error"
   ]
  },
  {
   "cell_type": "code",
   "execution_count": 37,
   "metadata": {},
   "outputs": [],
   "source": [
    "# score a model, return None on failure\n",
    "def score_model(data, n_test, cfg, debug=False):\n",
    "\tresult = None\n",
    "\t# convert config to a key\n",
    "\tkey = str(cfg)\n",
    "\t# show all warnings and fail on exception if debugging\n",
    "\tif debug:\n",
    "\t\tresult = walk_forward_validation(data, n_test, cfg)\n",
    "\telse:\n",
    "\t\t# one failure during model validation suggests an unstable config\n",
    "\t\ttry:\n",
    "\t\t\t# never show warnings when grid searching, too noisy\n",
    "\t\t\twith catch_warnings():\n",
    "\t\t\t\tfilterwarnings(\"ignore\")\n",
    "\t\t\t\tresult = walk_forward_validation(data, n_test, cfg)\n",
    "\t\texcept:\n",
    "\t\t\terror = None\n",
    "\t# check for an interesting result\n",
    "\tif result is not None:\n",
    "\t\tprint(' > Model[%s] %.3f' % (key, result))\n",
    "\treturn (key, result)"
   ]
  },
  {
   "cell_type": "code",
   "execution_count": 38,
   "metadata": {},
   "outputs": [],
   "source": [
    "def grid_search(data, cfg_list, n_test, parallel=True):\n",
    "\tscores = None\n",
    "\tif parallel:\n",
    "\t\t# execute configs in parallel\n",
    "\t\texecutor = Parallel(n_jobs=cpu_count(), backend='multiprocessing')\n",
    "\t\ttasks = (delayed(score_model)(data, n_test, cfg) for cfg in cfg_list)\n",
    "\t\tscores = executor(tasks)\n",
    "\telse:\n",
    "\t\tscores = [score_model(data, n_test, cfg) for cfg in cfg_list]\n",
    "\t# remove empty results\n",
    "\tscores = [r for r in scores if r[1] != None]\n",
    "\t# sort configs by error, asc\n",
    "\tscores.sort(key=lambda tup: tup[1])\n",
    "\treturn scores"
   ]
  },
  {
   "cell_type": "code",
   "execution_count": 39,
   "metadata": {},
   "outputs": [],
   "source": [
    "# create a set of sarima configs to try\n",
    "def sarima_configs(seasonal=[0]):\n",
    "\tmodels = list()\n",
    "\t# define config lists\n",
    "\tp_params = [0, 1]\n",
    "\td_params = [0, 1]\n",
    "\tq_params = [0, 1]\n",
    "\tt_params = ['n','c']\n",
    "\tP_params = [0, 1]\n",
    "\tD_params = [0, 1]\n",
    "\tQ_params = [0, 1]\n",
    "\tm_params = seasonal\n",
    "\t# create config instances\n",
    "\tfor p in p_params:\n",
    "\t\tfor d in d_params:\n",
    "\t\t\tfor q in q_params:\n",
    "\t\t\t\tfor t in t_params:\n",
    "\t\t\t\t\tfor P in P_params:\n",
    "\t\t\t\t\t\tfor D in D_params:\n",
    "\t\t\t\t\t\t\tfor Q in Q_params:\n",
    "\t\t\t\t\t\t\t\tfor m in m_params:\n",
    "\t\t\t\t\t\t\t\t\tcfg = [(p,d,q), (P,D,Q,m), t]\n",
    "\t\t\t\t\t\t\t\t\tmodels.append(cfg)\n",
    "\treturn models"
   ]
  },
  {
   "cell_type": "markdown",
   "metadata": {},
   "source": [
    "Running the below code can take a considerably long time. To shorten the runtime, we restrict the test size to 80 (ideally this should be bigger, eg. c.75% of the dataset). In the code in the above line, we also restrict the config list to [0,1] only and ['n', 'c'] (i.e. we iterate through no constant and constant).\n",
    "Our initial plot of the data shows that slope of the trend changes over time. This is more akin to stochastic trend models (e.g. drift models) instead of deterministic trend models. We therefore choose to not iterate through 't' and 'ct'."
   ]
  },
  {
   "cell_type": "code",
   "execution_count": 41,
   "metadata": {},
   "outputs": [
    {
     "name": "stdout",
     "output_type": "stream",
     "text": [
      "(378,)\n",
      " > Model[[(0, 0, 0), (0, 0, 0, 12), 'n']] 101.053\n",
      " > Model[[(0, 0, 0), (0, 1, 0, 12), 'n']] 2.701\n",
      " > Model[[(0, 0, 0), (1, 0, 0, 12), 'n']] 3.363\n",
      " > Model[[(0, 0, 0), (1, 1, 0, 12), 'n']] 2.607\n",
      " > Model[[(0, 0, 0), (0, 1, 1, 12), 'n']] 2.524\n",
      " > Model[[(0, 0, 0), (1, 0, 1, 12), 'n']] 3.085\n",
      " > Model[[(0, 0, 0), (0, 0, 0, 12), 'c']] 28.046\n",
      " > Model[[(0, 0, 0), (0, 0, 1, 12), 'n']] 53.690\n",
      " > Model[[(0, 0, 0), (0, 1, 0, 12), 'c']] 2.968\n",
      " > Model[[(0, 0, 0), (1, 1, 1, 12), 'n']] 2.925\n",
      " > Model[[(0, 0, 0), (0, 0, 1, 12), 'c']] 17.926\n",
      " > Model[[(0, 0, 0), (0, 1, 1, 12), 'c']] 2.748\n",
      " > Model[[(0, 0, 0), (1, 0, 0, 12), 'c']] 3.140\n",
      " > Model[[(0, 0, 1), (0, 0, 0, 12), 'n']] 51.132\n",
      " > Model[[(0, 0, 0), (1, 1, 0, 12), 'c']] 2.723\n",
      " > Model[[(0, 0, 1), (0, 1, 0, 12), 'n']] 1.466\n",
      " > Model[[(0, 0, 0), (1, 1, 1, 12), 'c']] 2.787\n",
      " > Model[[(0, 0, 0), (1, 0, 1, 12), 'c']] 2.855\n",
      " > Model[[(0, 0, 1), (0, 1, 1, 12), 'n']] 1.407\n",
      " > Model[[(0, 0, 1), (0, 0, 1, 12), 'n']] 28.495\n",
      " > Model[[(0, 0, 1), (1, 0, 0, 12), 'n']] 2.153\n",
      " > Model[[(0, 0, 1), (1, 1, 0, 12), 'n']] 1.440\n",
      " > Model[[(0, 0, 1), (0, 0, 0, 12), 'c']] 19.979\n",
      " > Model[[(0, 0, 1), (1, 1, 1, 12), 'n']] 1.595\n",
      " > Model[[(0, 0, 1), (0, 1, 0, 12), 'c']] 1.610\n",
      " > Model[[(0, 0, 1), (1, 0, 1, 12), 'n']] 2.476\n",
      " > Model[[(0, 0, 1), (0, 0, 1, 12), 'c']] 11.288\n",
      " > Model[[(0, 0, 1), (0, 1, 1, 12), 'c']] 1.519\n",
      " > Model[[(0, 0, 1), (1, 0, 0, 12), 'c']] 5.368\n",
      " > Model[[(0, 1, 0), (0, 0, 0, 12), 'n']] 0.486\n",
      " > Model[[(0, 1, 0), (0, 0, 1, 12), 'n']] 0.466\n",
      " > Model[[(0, 1, 0), (0, 1, 0, 12), 'n']] 0.575\n",
      " > Model[[(0, 0, 1), (1, 1, 0, 12), 'c']] 1.514\n",
      " > Model[[(0, 1, 0), (1, 0, 0, 12), 'n']] 0.456\n",
      " > Model[[(0, 1, 0), (0, 1, 1, 12), 'n']] 0.488\n",
      " > Model[[(0, 1, 0), (1, 0, 1, 12), 'n']] 0.454\n",
      " > Model[[(0, 1, 0), (1, 1, 0, 12), 'n']] 0.536\n",
      " > Model[[(0, 1, 0), (0, 0, 0, 12), 'c']] 0.498\n",
      " > Model[[(0, 0, 1), (1, 0, 1, 12), 'c']] 5.468\n",
      " > Model[[(0, 1, 0), (0, 1, 0, 12), 'c']] 0.576\n",
      " > Model[[(0, 1, 0), (0, 0, 1, 12), 'c']] 0.476\n",
      " > Model[[(0, 1, 0), (1, 0, 0, 12), 'c']] 0.464\n",
      " > Model[[(0, 1, 0), (1, 1, 1, 12), 'n']] 0.503\n",
      " > Model[[(0, 0, 1), (1, 1, 1, 12), 'c']] 1.531\n",
      " > Model[[(0, 1, 0), (1, 0, 1, 12), 'c']] 0.457\n",
      " > Model[[(0, 1, 1), (0, 0, 0, 12), 'n']] 0.476\n",
      " > Model[[(0, 1, 0), (1, 1, 0, 12), 'c']] 0.536\n",
      " > Model[[(0, 1, 0), (0, 1, 1, 12), 'c']] 0.490\n",
      " > Model[[(0, 1, 1), (0, 0, 1, 12), 'n']] 0.455\n",
      " > Model[[(0, 1, 1), (0, 1, 0, 12), 'n']] 0.557\n",
      " > Model[[(0, 1, 1), (1, 0, 0, 12), 'n']] 0.443\n",
      " > Model[[(0, 1, 1), (1, 1, 0, 12), 'n']] 0.520\n",
      " > Model[[(0, 1, 1), (1, 0, 1, 12), 'n']] 0.436\n",
      " > Model[[(0, 1, 1), (0, 0, 0, 12), 'c']] 0.489\n",
      " > Model[[(0, 1, 1), (0, 1, 1, 12), 'n']] 0.470\n",
      " > Model[[(0, 1, 1), (0, 0, 1, 12), 'c']] 0.464\n",
      " > Model[[(0, 1, 0), (1, 1, 1, 12), 'c']] 0.503\n",
      " > Model[[(0, 1, 1), (0, 1, 0, 12), 'c']] 0.558\n",
      " > Model[[(0, 1, 1), (1, 0, 0, 12), 'c']] 0.450\n",
      " > Model[[(0, 1, 1), (1, 1, 1, 12), 'n']] 0.482\n",
      " > Model[[(0, 1, 1), (1, 0, 1, 12), 'c']] 0.439\n",
      " > Model[[(1, 0, 0), (0, 0, 0, 12), 'n']] 0.515\n",
      " > Model[[(0, 1, 1), (1, 1, 0, 12), 'c']] 0.521\n",
      " > Model[[(1, 0, 0), (0, 0, 1, 12), 'n']] 0.491\n",
      " > Model[[(1, 0, 0), (0, 1, 0, 12), 'n']] 0.571\n",
      " > Model[[(0, 1, 1), (0, 1, 1, 12), 'c']] 0.472\n",
      " > Model[[(1, 0, 0), (1, 0, 0, 12), 'n']] 0.472\n",
      " > Model[[(1, 0, 0), (1, 1, 0, 12), 'n']] 0.532\n",
      " > Model[[(1, 0, 0), (1, 0, 1, 12), 'n']] 0.460\n",
      " > Model[[(0, 1, 1), (1, 1, 1, 12), 'c']] 0.482\n",
      " > Model[[(1, 0, 0), (0, 0, 0, 12), 'c']] 0.509\n",
      " > Model[[(1, 0, 0), (0, 1, 1, 12), 'n']] 0.487\n",
      " > Model[[(1, 0, 0), (0, 1, 0, 12), 'c']] 0.577\n",
      " > Model[[(1, 0, 0), (0, 0, 1, 12), 'c']] 0.489\n",
      " > Model[[(1, 0, 0), (1, 1, 1, 12), 'n']] 0.500\n",
      " > Model[[(1, 0, 0), (1, 0, 0, 12), 'c']] 0.468\n",
      " > Model[[(1, 0, 0), (0, 1, 1, 12), 'c']] 0.489\n",
      " > Model[[(1, 0, 1), (0, 0, 0, 12), 'n']] 0.503\n",
      " > Model[[(1, 0, 0), (1, 1, 0, 12), 'c']] 0.535\n",
      " > Model[[(1, 0, 1), (0, 1, 0, 12), 'n']] 0.551\n",
      " > Model[[(1, 0, 1), (0, 0, 1, 12), 'n']] 0.477\n",
      " > Model[[(1, 0, 0), (1, 0, 1, 12), 'c']] 0.459\n",
      " > Model[[(1, 0, 1), (1, 0, 0, 12), 'n']] 0.457\n",
      " > Model[[(1, 0, 1), (1, 1, 0, 12), 'n']] 0.516\n",
      " > Model[[(1, 0, 1), (1, 0, 1, 12), 'n']] 0.442\n",
      " > Model[[(1, 0, 0), (1, 1, 1, 12), 'c']] 0.501\n",
      " > Model[[(1, 0, 1), (0, 0, 0, 12), 'c']] 0.499\n",
      " > Model[[(1, 0, 1), (0, 1, 1, 12), 'n']] 0.468\n",
      " > Model[[(1, 0, 1), (0, 1, 0, 12), 'c']] 0.558\n",
      " > Model[[(1, 0, 1), (0, 0, 1, 12), 'c']] 0.474\n",
      " > Model[[(1, 0, 1), (1, 1, 1, 12), 'n']] 0.478\n",
      " > Model[[(1, 0, 1), (1, 0, 0, 12), 'c']] 0.453\n",
      " > Model[[(1, 0, 1), (0, 1, 1, 12), 'c']] 0.469\n",
      " > Model[[(1, 1, 0), (0, 0, 0, 12), 'n']] 0.473\n",
      " > Model[[(1, 1, 0), (0, 0, 1, 12), 'n']] 0.452\n",
      " > Model[[(1, 1, 0), (0, 1, 0, 12), 'n']] 0.557\n",
      " > Model[[(1, 1, 0), (0, 1, 1, 12), 'n']] 0.467\n",
      " > Model[[(1, 0, 1), (1, 1, 0, 12), 'c']] 0.519\n",
      " > Model[[(1, 1, 0), (1, 0, 0, 12), 'n']] 0.441\n",
      " > Model[[(1, 0, 1), (1, 0, 1, 12), 'c']] 0.440\n",
      " > Model[[(1, 1, 0), (1, 1, 0, 12), 'n']] 0.518\n",
      " > Model[[(1, 1, 0), (1, 0, 1, 12), 'n']] 0.433\n",
      " > Model[[(1, 1, 0), (0, 0, 0, 12), 'c']] 0.488\n",
      " > Model[[(1, 1, 0), (0, 1, 0, 12), 'c']] 0.558\n",
      " > Model[[(1, 1, 0), (0, 0, 1, 12), 'c']] 0.463\n",
      " > Model[[(1, 1, 0), (1, 0, 0, 12), 'c']] 0.449\n",
      " > Model[[(1, 1, 0), (1, 1, 1, 12), 'n']] 0.480\n",
      " > Model[[(1, 1, 0), (1, 0, 1, 12), 'c']] 0.437\n",
      " > Model[[(1, 0, 1), (1, 1, 1, 12), 'c']] 0.480\n",
      " > Model[[(1, 1, 1), (0, 0, 0, 12), 'n']] 0.482\n",
      " > Model[[(1, 1, 0), (0, 1, 1, 12), 'c']] 0.468\n",
      " > Model[[(1, 1, 1), (0, 1, 0, 12), 'n']] 0.562\n",
      " > Model[[(1, 1, 0), (1, 1, 0, 12), 'c']] 0.519\n",
      " > Model[[(1, 1, 1), (0, 0, 1, 12), 'n']] 0.463\n",
      " > Model[[(1, 1, 1), (1, 0, 0, 12), 'n']] 0.441\n",
      " > Model[[(1, 1, 1), (1, 1, 0, 12), 'n']] 0.513\n",
      " > Model[[(1, 1, 1), (1, 0, 1, 12), 'n']] 0.426\n",
      " > Model[[(1, 1, 0), (1, 1, 1, 12), 'c']] 0.479\n",
      " > Model[[(1, 1, 1), (0, 0, 0, 12), 'c']] 0.480\n",
      " > Model[[(1, 1, 1), (0, 1, 1, 12), 'n']] 0.458\n",
      " > Model[[(1, 1, 1), (0, 1, 0, 12), 'c']] 0.562\n",
      " > Model[[(1, 1, 1), (0, 0, 1, 12), 'c']] 0.464\n",
      " > Model[[(1, 1, 1), (1, 0, 0, 12), 'c']] 0.448\n",
      " > Model[[(1, 1, 1), (1, 1, 1, 12), 'n']] 0.470\n",
      " > Model[[(1, 1, 1), (1, 0, 1, 12), 'c']] 0.431\n",
      " > Model[[(1, 1, 1), (1, 1, 0, 12), 'c']] 0.514\n",
      " > Model[[(1, 1, 1), (0, 1, 1, 12), 'c']] 0.460\n",
      " > Model[[(1, 1, 1), (1, 1, 1, 12), 'c']] 0.472\n",
      "done\n",
      "[(1, 1, 1), (1, 0, 1, 12), 'n'] 0.4263286366122453\n",
      "[(1, 1, 1), (1, 0, 1, 12), 'c'] 0.43095967645529565\n",
      "[(1, 1, 0), (1, 0, 1, 12), 'n'] 0.43338054792229747\n"
     ]
    }
   ],
   "source": [
    "if __name__ == '__main__':\n",
    "\tdata = ts\n",
    "\tprint(data.shape)\n",
    "\t# data split\n",
    "\tn_test = 80\n",
    "\t# model configs\n",
    "\tcfg_list = sarima_configs(seasonal=[12])\n",
    "\t# grid search\n",
    "\tscores = grid_search(data, cfg_list, n_test)\n",
    "\tprint('done')\n",
    "\t# list top 3 configs\n",
    "\tfor cfg, error in scores[:3]:\n",
    "\t\tprint(cfg, error)"
   ]
  },
  {
   "cell_type": "markdown",
   "metadata": {},
   "source": [
    "The configurations and error for the top three configurations are reported. <br>\n",
    "<font color='red'>=====================================</font> <br>\n",
    "<font color='red'> ==>> (1,1,1)         <<== Order(p,d,q) </font> <br>\n",
    "<font color='red'> ==>> (1,0,1)         <<== Seasonal Order(P,D,Q) </font> <br>\n",
    "<font color='red'> ==>> (no trend, 'n') <<== Trend Parameter </font> <br>\n",
    "<font color='red'>=====================================</font> <br>"
   ]
  },
  {
   "cell_type": "markdown",
   "metadata": {},
   "source": [
    "### 4.4.2 Grid search - method 2 - with *AIC* as selection criterion"
   ]
  },
  {
   "cell_type": "code",
   "execution_count": 44,
   "metadata": {},
   "outputs": [
    {
     "data": {
      "text/html": [
       "<div>\n",
       "<style scoped>\n",
       "    .dataframe tbody tr th:only-of-type {\n",
       "        vertical-align: middle;\n",
       "    }\n",
       "\n",
       "    .dataframe tbody tr th {\n",
       "        vertical-align: top;\n",
       "    }\n",
       "\n",
       "    .dataframe thead th {\n",
       "        text-align: right;\n",
       "    }\n",
       "</style>\n",
       "<table border=\"1\" class=\"dataframe\">\n",
       "  <thead>\n",
       "    <tr style=\"text-align: right;\">\n",
       "      <th></th>\n",
       "      <th>SARIMAX model</th>\n",
       "      <th>AIC</th>\n",
       "    </tr>\n",
       "  </thead>\n",
       "  <tbody>\n",
       "    <tr>\n",
       "      <th>61</th>\n",
       "      <td>[(1, 1, 1), (1, 0, 1, 12)]</td>\n",
       "      <td>496.593973</td>\n",
       "    </tr>\n",
       "    <tr>\n",
       "      <th>59</th>\n",
       "      <td>[(1, 1, 1), (0, 1, 1, 12)]</td>\n",
       "      <td>496.729214</td>\n",
       "    </tr>\n",
       "    <tr>\n",
       "      <th>53</th>\n",
       "      <td>[(1, 1, 0), (1, 0, 1, 12)]</td>\n",
       "      <td>499.145342</td>\n",
       "    </tr>\n",
       "    <tr>\n",
       "      <th>51</th>\n",
       "      <td>[(1, 1, 0), (0, 1, 1, 12)]</td>\n",
       "      <td>499.585913</td>\n",
       "    </tr>\n",
       "    <tr>\n",
       "      <th>29</th>\n",
       "      <td>[(0, 1, 1), (1, 0, 1, 12)]</td>\n",
       "      <td>499.914709</td>\n",
       "    </tr>\n",
       "  </tbody>\n",
       "</table>\n",
       "</div>"
      ],
      "text/plain": [
       "                 SARIMAX model         AIC\n",
       "61  [(1, 1, 1), (1, 0, 1, 12)]  496.593973\n",
       "59  [(1, 1, 1), (0, 1, 1, 12)]  496.729214\n",
       "53  [(1, 1, 0), (1, 0, 1, 12)]  499.145342\n",
       "51  [(1, 1, 0), (0, 1, 1, 12)]  499.585913\n",
       "29  [(0, 1, 1), (1, 0, 1, 12)]  499.914709"
      ]
     },
     "execution_count": 44,
     "metadata": {},
     "output_type": "execute_result"
    }
   ],
   "source": [
    "# iterate through all combinations of p,d,q within the range of 0,2 for each parameter \n",
    "\n",
    "p = d = q = range(0, 2)\n",
    "pdq = list(itertools.product(p, d, q))\n",
    "seasonal_pdq = [(x[0], x[1], x[2], 12) for x in list(itertools.product(p, d, q))]\n",
    "\n",
    "# first create a dataframe to be filled with model evaluation metrics we are interested in\n",
    "foo = pd.DataFrame({'SARIMAX model': [], \n",
    "                    'AIC':[]\n",
    "                   })\n",
    "for param in pdq:\n",
    "    for param_seasonal in seasonal_pdq:\n",
    "        try:\n",
    "            mod = SARIMAX(ts,\n",
    "                          order=param,\n",
    "                          seasonal_order=param_seasonal,\n",
    "                          enforce_stationarity=False,\n",
    "                          enforce_invertibility=False)\n",
    "\n",
    "            results = mod.fit()\n",
    "            # we append the evaluation metrics we get for each iteration into a single table\n",
    "            foo = foo.append({'SARIMAX model': [param, param_seasonal], \n",
    "                              'AIC': results.aic\n",
    "                             }, ignore_index=True)     \n",
    "            \n",
    "        except:\n",
    "            continue\n",
    "# we sort table from low to high AIC \n",
    "foo = foo.sort_values(by = 'AIC')\n",
    "foo.head()"
   ]
  },
  {
   "cell_type": "markdown",
   "metadata": {},
   "source": [
    "This method also concludes that SARIMA(1,1,1)(1,0,1)12 is the most optimal with the lowest AIC."
   ]
  },
  {
   "cell_type": "markdown",
   "metadata": {},
   "source": [
    "## 5. Building the SARIMA(1,1,1)(1,0,1)12 model"
   ]
  },
  {
   "cell_type": "code",
   "execution_count": 271,
   "metadata": {},
   "outputs": [
    {
     "data": {
      "text/html": [
       "<table class=\"simpletable\">\n",
       "<caption>Statespace Model Results</caption>\n",
       "<tr>\n",
       "  <th>Dep. Variable:</th>                <td>index</td>             <th>  No. Observations:  </th>    <td>360</td>  \n",
       "</tr>\n",
       "<tr>\n",
       "  <th>Model:</th>           <td>SARIMAX(1, 1, 1)x(1, 0, 1, 12)</td> <th>  Log Likelihood     </th> <td>-237.399</td>\n",
       "</tr>\n",
       "<tr>\n",
       "  <th>Date:</th>                   <td>Sun, 21 Jul 2019</td>        <th>  AIC                </th>  <td>484.798</td>\n",
       "</tr>\n",
       "<tr>\n",
       "  <th>Time:</th>                       <td>19:52:26</td>            <th>  BIC                </th>  <td>504.016</td>\n",
       "</tr>\n",
       "<tr>\n",
       "  <th>Sample:</th>                    <td>01-01-1988</td>           <th>  HQIC               </th>  <td>492.451</td>\n",
       "</tr>\n",
       "<tr>\n",
       "  <th></th>                          <td>- 12-01-2017</td>          <th>                     </th>     <td> </td>   \n",
       "</tr>\n",
       "<tr>\n",
       "  <th>Covariance Type:</th>               <td>opg</td>              <th>                     </th>     <td> </td>   \n",
       "</tr>\n",
       "</table>\n",
       "<table class=\"simpletable\">\n",
       "<tr>\n",
       "      <td></td>        <th>coef</th>     <th>std err</th>      <th>z</th>      <th>P>|z|</th>  <th>[0.025</th>    <th>0.975]</th>  \n",
       "</tr>\n",
       "<tr>\n",
       "  <th>ar.L1</th>    <td>    0.8388</td> <td>    0.091</td> <td>    9.247</td> <td> 0.000</td> <td>    0.661</td> <td>    1.017</td>\n",
       "</tr>\n",
       "<tr>\n",
       "  <th>ma.L1</th>    <td>   -0.7180</td> <td>    0.117</td> <td>   -6.136</td> <td> 0.000</td> <td>   -0.947</td> <td>   -0.489</td>\n",
       "</tr>\n",
       "<tr>\n",
       "  <th>ar.S.L12</th> <td>    0.8938</td> <td>    0.038</td> <td>   23.344</td> <td> 0.000</td> <td>    0.819</td> <td>    0.969</td>\n",
       "</tr>\n",
       "<tr>\n",
       "  <th>ma.S.L12</th> <td>   -0.6701</td> <td>    0.068</td> <td>   -9.810</td> <td> 0.000</td> <td>   -0.804</td> <td>   -0.536</td>\n",
       "</tr>\n",
       "<tr>\n",
       "  <th>sigma2</th>   <td>    0.2271</td> <td>    0.014</td> <td>   15.850</td> <td> 0.000</td> <td>    0.199</td> <td>    0.255</td>\n",
       "</tr>\n",
       "</table>\n",
       "<table class=\"simpletable\">\n",
       "<tr>\n",
       "  <th>Ljung-Box (Q):</th>          <td>43.90</td> <th>  Jarque-Bera (JB):  </th> <td>15.95</td>\n",
       "</tr>\n",
       "<tr>\n",
       "  <th>Prob(Q):</th>                <td>0.31</td>  <th>  Prob(JB):          </th> <td>0.00</td> \n",
       "</tr>\n",
       "<tr>\n",
       "  <th>Heteroskedasticity (H):</th> <td>2.32</td>  <th>  Skew:              </th> <td>-0.18</td>\n",
       "</tr>\n",
       "<tr>\n",
       "  <th>Prob(H) (two-sided):</th>    <td>0.00</td>  <th>  Kurtosis:          </th> <td>3.99</td> \n",
       "</tr>\n",
       "</table><br/><br/>Warnings:<br/>[1] Covariance matrix calculated using the outer product of gradients (complex-step)."
      ],
      "text/plain": [
       "<class 'statsmodels.iolib.summary.Summary'>\n",
       "\"\"\"\n",
       "                                 Statespace Model Results                                 \n",
       "==========================================================================================\n",
       "Dep. Variable:                              index   No. Observations:                  360\n",
       "Model:             SARIMAX(1, 1, 1)x(1, 0, 1, 12)   Log Likelihood                -237.399\n",
       "Date:                            Sun, 21 Jul 2019   AIC                            484.798\n",
       "Time:                                    19:52:26   BIC                            504.016\n",
       "Sample:                                01-01-1988   HQIC                           492.451\n",
       "                                     - 12-01-2017                                         \n",
       "Covariance Type:                              opg                                         \n",
       "==============================================================================\n",
       "                 coef    std err          z      P>|z|      [0.025      0.975]\n",
       "------------------------------------------------------------------------------\n",
       "ar.L1          0.8388      0.091      9.247      0.000       0.661       1.017\n",
       "ma.L1         -0.7180      0.117     -6.136      0.000      -0.947      -0.489\n",
       "ar.S.L12       0.8938      0.038     23.344      0.000       0.819       0.969\n",
       "ma.S.L12      -0.6701      0.068     -9.810      0.000      -0.804      -0.536\n",
       "sigma2         0.2271      0.014     15.850      0.000       0.199       0.255\n",
       "===================================================================================\n",
       "Ljung-Box (Q):                       43.90   Jarque-Bera (JB):                15.95\n",
       "Prob(Q):                              0.31   Prob(JB):                         0.00\n",
       "Heteroskedasticity (H):               2.32   Skew:                            -0.18\n",
       "Prob(H) (two-sided):                  0.00   Kurtosis:                         3.99\n",
       "===================================================================================\n",
       "\n",
       "Warnings:\n",
       "[1] Covariance matrix calculated using the outer product of gradients (complex-step).\n",
       "\"\"\""
      ]
     },
     "execution_count": 271,
     "metadata": {},
     "output_type": "execute_result"
    }
   ],
   "source": [
    "# train/test split our data\n",
    "train = ts[:'31-12-2017'].dropna()\n",
    "test = ts['01-01-2018':].dropna()\n",
    "\n",
    "# fitting the SARIMA model\n",
    "model = SARIMAX(train, order=(1,1,1), seasonal_order=(1,0,1,12), \n",
    "                enforce_stationarity = False, enforce_invertibility = False)\n",
    "\n",
    "results = model.fit()\n",
    "results.summary()"
   ]
  },
  {
   "cell_type": "code",
   "execution_count": 46,
   "metadata": {},
   "outputs": [
    {
     "data": {
      "text/html": [
       "<table class=\"simpletable\">\n",
       "<caption>Statespace Model Results</caption>\n",
       "<tr>\n",
       "  <th>Dep. Variable:</th>                <td>index</td>             <th>  No. Observations:  </th>    <td>360</td>  \n",
       "</tr>\n",
       "<tr>\n",
       "  <th>Model:</th>           <td>SARIMAX(1, 1, 1)x(1, 0, 1, 12)</td> <th>  Log Likelihood     </th> <td>-237.399</td>\n",
       "</tr>\n",
       "<tr>\n",
       "  <th>Date:</th>                   <td>Sun, 24 Nov 2019</td>        <th>  AIC                </th>  <td>484.798</td>\n",
       "</tr>\n",
       "<tr>\n",
       "  <th>Time:</th>                       <td>14:20:46</td>            <th>  BIC                </th>  <td>504.016</td>\n",
       "</tr>\n",
       "<tr>\n",
       "  <th>Sample:</th>                    <td>01-01-1988</td>           <th>  HQIC               </th>  <td>492.451</td>\n",
       "</tr>\n",
       "<tr>\n",
       "  <th></th>                          <td>- 12-01-2017</td>          <th>                     </th>     <td> </td>   \n",
       "</tr>\n",
       "<tr>\n",
       "  <th>Covariance Type:</th>               <td>opg</td>              <th>                     </th>     <td> </td>   \n",
       "</tr>\n",
       "</table>\n",
       "<table class=\"simpletable\">\n",
       "<tr>\n",
       "      <td></td>        <th>coef</th>     <th>std err</th>      <th>z</th>      <th>P>|z|</th>  <th>[0.025</th>    <th>0.975]</th>  \n",
       "</tr>\n",
       "<tr>\n",
       "  <th>ar.L1</th>    <td>    0.8388</td> <td>    0.091</td> <td>    9.247</td> <td> 0.000</td> <td>    0.661</td> <td>    1.017</td>\n",
       "</tr>\n",
       "<tr>\n",
       "  <th>ma.L1</th>    <td>   -0.7180</td> <td>    0.117</td> <td>   -6.136</td> <td> 0.000</td> <td>   -0.947</td> <td>   -0.489</td>\n",
       "</tr>\n",
       "<tr>\n",
       "  <th>ar.S.L12</th> <td>    0.8938</td> <td>    0.038</td> <td>   23.344</td> <td> 0.000</td> <td>    0.819</td> <td>    0.969</td>\n",
       "</tr>\n",
       "<tr>\n",
       "  <th>ma.S.L12</th> <td>   -0.6701</td> <td>    0.068</td> <td>   -9.810</td> <td> 0.000</td> <td>   -0.804</td> <td>   -0.536</td>\n",
       "</tr>\n",
       "<tr>\n",
       "  <th>sigma2</th>   <td>    0.2271</td> <td>    0.014</td> <td>   15.850</td> <td> 0.000</td> <td>    0.199</td> <td>    0.255</td>\n",
       "</tr>\n",
       "</table>\n",
       "<table class=\"simpletable\">\n",
       "<tr>\n",
       "  <th>Ljung-Box (Q):</th>          <td>43.90</td> <th>  Jarque-Bera (JB):  </th> <td>15.95</td>\n",
       "</tr>\n",
       "<tr>\n",
       "  <th>Prob(Q):</th>                <td>0.31</td>  <th>  Prob(JB):          </th> <td>0.00</td> \n",
       "</tr>\n",
       "<tr>\n",
       "  <th>Heteroskedasticity (H):</th> <td>2.32</td>  <th>  Skew:              </th> <td>-0.18</td>\n",
       "</tr>\n",
       "<tr>\n",
       "  <th>Prob(H) (two-sided):</th>    <td>0.00</td>  <th>  Kurtosis:          </th> <td>3.99</td> \n",
       "</tr>\n",
       "</table><br/><br/>Warnings:<br/>[1] Covariance matrix calculated using the outer product of gradients (complex-step)."
      ],
      "text/plain": [
       "<class 'statsmodels.iolib.summary.Summary'>\n",
       "\"\"\"\n",
       "                                 Statespace Model Results                                 \n",
       "==========================================================================================\n",
       "Dep. Variable:                              index   No. Observations:                  360\n",
       "Model:             SARIMAX(1, 1, 1)x(1, 0, 1, 12)   Log Likelihood                -237.399\n",
       "Date:                            Sun, 24 Nov 2019   AIC                            484.798\n",
       "Time:                                    14:20:46   BIC                            504.016\n",
       "Sample:                                01-01-1988   HQIC                           492.451\n",
       "                                     - 12-01-2017                                         \n",
       "Covariance Type:                              opg                                         \n",
       "==============================================================================\n",
       "                 coef    std err          z      P>|z|      [0.025      0.975]\n",
       "------------------------------------------------------------------------------\n",
       "ar.L1          0.8388      0.091      9.247      0.000       0.661       1.017\n",
       "ma.L1         -0.7180      0.117     -6.136      0.000      -0.947      -0.489\n",
       "ar.S.L12       0.8938      0.038     23.344      0.000       0.819       0.969\n",
       "ma.S.L12      -0.6701      0.068     -9.810      0.000      -0.804      -0.536\n",
       "sigma2         0.2271      0.014     15.850      0.000       0.199       0.255\n",
       "===================================================================================\n",
       "Ljung-Box (Q):                       43.90   Jarque-Bera (JB):                15.95\n",
       "Prob(Q):                              0.31   Prob(JB):                         0.00\n",
       "Heteroskedasticity (H):               2.32   Skew:                            -0.18\n",
       "Prob(H) (two-sided):                  0.00   Kurtosis:                         3.99\n",
       "===================================================================================\n",
       "\n",
       "Warnings:\n",
       "[1] Covariance matrix calculated using the outer product of gradients (complex-step).\n",
       "\"\"\""
      ]
     },
     "execution_count": 46,
     "metadata": {},
     "output_type": "execute_result"
    }
   ],
   "source": [
    "# train/test split our data\n",
    "train = ts[:'31-12-2017'].dropna()\n",
    "test = ts['01-01-2018':].dropna()\n",
    "\n",
    "# fitting the SARIMA model\n",
    "model = SARIMAX(train, order=(1,1,1), seasonal_order=(1,0,1,12), \n",
    "                enforce_stationarity = False, enforce_invertibility = False)\n",
    "\n",
    "results = model.fit()\n",
    "results.summary()"
   ]
  },
  {
   "cell_type": "markdown",
   "metadata": {},
   "source": [
    "p-values of all variables in the model are significant (<5% significance level). We therefore retain all features."
   ]
  },
  {
   "cell_type": "code",
   "execution_count": 272,
   "metadata": {},
   "outputs": [
    {
     "data": {
      "image/png": "[encoded data removed]",
      "text/plain": [
       "<Figure size 1152x576 with 4 Axes>"
      ]
     },
     "metadata": {
      "needs_background": "light"
     },
     "output_type": "display_data"
    }
   ],
   "source": [
    "# we plot some diagnostic plots below\n",
    "results.plot_diagnostics(figsize=(16, 8))\n",
    "plt.show()"
   ]
  },
  {
   "cell_type": "markdown",
   "metadata": {},
   "source": [
    "A good and unbiased model should have uncorrelated residuals that are normally distributed with zero mean. <br>\n",
    "1). The KDE line closely follows the N(0,1) line. <br>\n",
    "2). The qq plot shows that the ordered distribution of residuals follows the linear trend from a standard normal distribution with N(0,1). <br>\n",
    "3). Residuals over time don't display obvious seasonality and appear to be white noise. This is confirmed by the correlogram which shows that residuals are not correlated with lagged values of itself."
   ]
  },
  {
   "cell_type": "code",
   "execution_count": 279,
   "metadata": {},
   "outputs": [
    {
     "data": {
      "image/png": "[encoded data removed]",
      "text/plain": [
       "<Figure size 1008x504 with 1 Axes>"
      ]
     },
     "metadata": {
      "needs_background": "light"
     },
     "output_type": "display_data"
    }
   ],
   "source": [
    "# we visualise forecasts from the model for the next 12 months\n",
    "pred = results.get_prediction(start=pd.to_datetime('01-01-2018'), end = pd.to_datetime('06-2020'), dynamic=False)\n",
    "pred_ci = pred.conf_int()\n",
    "ax = ts['2013-01-01':].plot(label='observed')\n",
    "pred.predicted_mean.plot(ax=ax, label='One-step ahead Forecast', alpha=.7, figsize=(14, 7))\n",
    "ax.fill_between(pred_ci.index,\n",
    "                pred_ci.iloc[:, 0],\n",
    "                pred_ci.iloc[:, 1], color='k', alpha=.2)\n",
    "ax.set_xlabel('Date')\n",
    "ax.set_ylabel('CPI Food')\n",
    "plt.legend()\n",
    "plt.show()"
   ]
  },
  {
   "cell_type": "code",
   "execution_count": 75,
   "metadata": {},
   "outputs": [
    {
     "data": {
      "text/plain": [
       "0.8252859988528594"
      ]
     },
     "execution_count": 75,
     "metadata": {},
     "output_type": "execute_result"
    }
   ],
   "source": [
    "# We take a look at the %Mean Absolute Error generated by this model \n",
    "# to see if our SARIMA model meets the requirement of our brief.\n",
    "pred = results.get_prediction(start=pd.to_datetime('01-01-2018'), end = pd.to_datetime('06-2020'), dynamic=False)\n",
    "y_pred = pred.predicted_mean\n",
    "np.mean(np.abs(y_pred - test)/np.abs(test))*100"
   ]
  },
  {
   "cell_type": "markdown",
   "metadata": {},
   "source": [
    "The average %Mean Absolute Error is 0.82% and is larger than the threshold we set out in the brief (0.50%) for our error tolerance."
   ]
  },
  {
   "cell_type": "markdown",
   "metadata": {},
   "source": [
    "## 6. Evaluation and Conclusion"
   ]
  },
  {
   "cell_type": "markdown",
   "metadata": {},
   "source": [
    "**[Conclusions to data questions]** <br>\n",
    "We conclude that univariate models are inadequate to predict future CPI levels within 0.50% error and is not accurate enough for business application. The %MAE of our most optimal model SARIMA(1,1,1)(1,0,1)12 which yielded the smallest AIC from our gridsearch had a %MAE of 0.83%. \n",
    "\n",
    "\n",
    "**[Avenues for further study and limitations of the model]** <br>\n",
    "Being a univariate model, the model relies on past values of itself and effects of historical disturbances and can only model how an exogenous shock propagates through the system. The model is unable to predict turning points in underlying stochastic trend. To improve predictability, more advanced modelling technique can include: introducing exogenous regressors and multivariate models e.g. Vector Auto Regressive models."
   ]
  }
 ],
 "metadata": {
  "kernelspec": {
   "display_name": "Python 3",
   "language": "python",
   "name": "python3"
  },
  "language_info": {
   "codemirror_mode": {
    "name": "ipython",
    "version": 3
   },
   "file_extension": ".py",
   "mimetype": "text/x-python",
   "name": "python",
   "nbconvert_exporter": "python",
   "pygments_lexer": "ipython3",
   "version": "3.7.0"
  }
 },
 "nbformat": 4,
 "nbformat_minor": 2
}
