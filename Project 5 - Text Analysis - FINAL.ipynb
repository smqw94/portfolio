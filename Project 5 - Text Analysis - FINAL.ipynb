{
 "cells": [
  {
   "cell_type": "markdown",
   "metadata": {},
   "source": [
    "# Project 5 - Text Analysis - FINAL"
   ]
  },
  {
   "cell_type": "markdown",
   "metadata": {},
   "source": [
    "## Sophie Wu"
   ]
  },
  {
   "cell_type": "markdown",
   "metadata": {},
   "source": [
    "## 1. Brief"
   ]
  },
  {
   "cell_type": "markdown",
   "metadata": {},
   "source": [
    "**[Potential use of findings / project motivation]** <br>\n",
    "UBS's Global Research department makes stock recommendations based on company and sector fundamental analysis. Europe Food Retailers is a sector covered by the department with combined market capitalisation >EUR100bn. Consumer perception is a leading indicator for food retailers' top line performance. Public voice opinions on social media platforms such as Twitter to express satisfaction/disatisfaction. Sentiment analysis of tweets can be a proxy for consumer perception and help Analysts in Global Research to forecast and predict food retailers' trading; and thus improving quality of Analysts' stock recommendations. The department currently have a 'Buy' recommendation on Tesco PLC. In addition to gauging the average sentiment, it would be useful to also classify tweets based on sentiments, such that we can isolate all tweets of negative sentiment for example for further analysis (e.g. topic or content analysis to inform Analysts potential problem areas the company's management would need to address for operational turnaround.\n",
    "\n",
    "\n",
    "**[Data questions]** <br>\n",
    "With the above in mind, this data analysis project aims to achieve the below:<br>\n",
    "1) Assess consumer perception (positive or negative sentiment) towards Tesco through text sentiment analysis of tweets. Our null hypothesis is that on average sentiment towards Tesco is positive (given the company has implemented several initiatives to improve loyalty and price perception).<br>\n",
    "2) We assess whether tweets are easily classifiable based on their sentiment. We define easily classifiable as having an accuracy >0.7 and F1 score for negative sentiment > 0.7 (we care particularly about the model's ability to capture all negative sentiments - not addressing customer disatisfaction can be detrimental to sales and business performance).\n",
    "  \n",
    "This data analysis project is split into two sections, separately answering data questions #1 and #2.\n",
    "\n"
   ]
  },
  {
   "cell_type": "markdown",
   "metadata": {},
   "source": [
    "## 2. Load libraries"
   ]
  },
  {
   "cell_type": "code",
   "execution_count": 4,
   "metadata": {},
   "outputs": [
    {
     "name": "stdout",
     "output_type": "stream",
     "text": [
      "[nltk_data] Downloading package punkt to\n",
      "[nltk_data]     /Users/SophieMQWu/nltk_data...\n",
      "[nltk_data]   Package punkt is already up-to-date!\n",
      "[nltk_data] Downloading package stopwords to\n",
      "[nltk_data]     /Users/SophieMQWu/nltk_data...\n",
      "[nltk_data]   Package stopwords is already up-to-date!\n",
      "[nltk_data] Downloading package wordnet to\n",
      "[nltk_data]     /Users/SophieMQWu/nltk_data...\n",
      "[nltk_data]   Package wordnet is already up-to-date!\n"
     ]
    }
   ],
   "source": [
    "# for data and matrix manipulation\n",
    "import pandas as pd\n",
    "import numpy as np\n",
    "\n",
    "# for data visualisation\n",
    "import matplotlib\n",
    "import matplotlib.pyplot as plt\n",
    "import matplotlib.patches as mpatches\n",
    "import seaborn as sns\n",
    "from wordcloud import WordCloud\n",
    "from sklearn.decomposition import PCA, TruncatedSVD\n",
    "\n",
    "# for string manipulation\n",
    "import re\n",
    "import string\n",
    "\n",
    "# for text pre-processing\n",
    "import nltk\n",
    "from nltk.tokenize import word_tokenize, sent_tokenize\n",
    "from nltk.corpus import stopwords\n",
    "from nltk.stem import PorterStemmer, WordNetLemmatizer\n",
    "\n",
    "# necessary dependencies from NLTK\n",
    "nltk.download('punkt')\n",
    "nltk.download('stopwords')\n",
    "nltk.download('wordnet')\n",
    "\n",
    "# for assigning sentiment polarity scores\n",
    "from textblob import TextBlob\n",
    "from vaderSentiment.vaderSentiment import SentimentIntensityAnalyzer\n",
    "analyser = SentimentIntensityAnalyzer()\n",
    "\n",
    "# for extracting features -- i.e. the DT matrix\n",
    "from sklearn.feature_extraction.text import CountVectorizer\n",
    "from sklearn.feature_extraction.text import TfidfTransformer\n",
    "from sklearn.feature_extraction.text import TfidfVectorizer\n",
    "import gensim\n",
    "\n",
    "# for splitting the data into a training and a testing set\n",
    "from sklearn.model_selection import train_test_split\n",
    "\n",
    "# algorithms for classification analysis\n",
    "from sklearn.pipeline import Pipeline\n",
    "from sklearn.naive_bayes import MultinomialNB\n",
    "from sklearn.tree import DecisionTreeClassifier\n",
    "from sklearn.linear_model import LogisticRegression\n",
    "from sklearn.svm import LinearSVC\n",
    "from sklearn.ensemble import RandomForestClassifier\n",
    "from sklearn.linear_model import SGDClassifier\n",
    "from sklearn.neighbors.nearest_centroid import NearestCentroid\n",
    "from sklearn.ensemble import GradientBoostingClassifier\n",
    "from sklearn.neighbors import KNeighborsClassifier\n",
    "from sklearn.ensemble import BaggingClassifier\n",
    "from sklearn import tree\n",
    "\n",
    "# for evaluating our machine learning model\n",
    "from sklearn.metrics import accuracy_score, classification_report\n",
    "\n",
    "# for writing csv files\n",
    "import csv\n",
    "\n",
    "###########################\n",
    "#For accessing Twitter API#\n",
    "###########################\n",
    "\n",
    "# import necessary methods from tweepy library\n",
    "import tweepy\n",
    "from tweepy import OAuthHandler\n",
    "from tweepy import Stream\n",
    "from tweepy.streaming import StreamListener\n",
    "\n",
    "# variables containing credentials to acccess Twitter API\n",
    "access_token = \"4329631636-sZda9YIKPdRbQAICrGpV8KdrMwaicSpMCtau0qC\"\n",
    "access_token_secret = \"YAzNrZ1t2GwgOh3XET5alI2yNchlIMa1ou4SqrKlxFa5z\"\n",
    "consumer_key = \"eg0JJjYzI61M0cYX7iJAmk13k\"\n",
    "consumer_secret = \"9l1dr7mrscRZFg2DMlS7gELz6YXoHVZolPzlINhosR0C0E63hb\"\n",
    "\n",
    "# pass Twitter credentials to Tweepy\n",
    "auth = tweepy.OAuthHandler(consumer_key, consumer_secret)\n",
    "auth.set_access_token(access_token, access_token_secret)\n",
    "api = tweepy.API(auth)\n"
   ]
  },
  {
   "cell_type": "markdown",
   "metadata": {},
   "source": [
    "## 3. Data sourcing - extracting tweets with reference to 'Tesco'"
   ]
  },
  {
   "cell_type": "markdown",
   "metadata": {},
   "source": [
    "**[Sourcing the relevant data]** <br>\n",
    "- We will extract tweets from Twitter using the `tweepy` library to access the Twitter API.  \n",
    "- We get tweets from Twitter created between *'2019-11-14'* and *'2019-11-15'* using Tweepy and store the data as a csv file*. note: with *api.search*, only tweets from the last 7 days can be accessed. We restrict the timeframe to only 1 day due to limitations of computing power. <br>\n",
    "- We search for tweets with of either `@tesco` or `#tesco`.<br>\n",
    "- We exclude retweets and only focus on tweets written in the English language. <br>\n",
    "- We are interested in the *'text'* attribute of tweet data and call for `tweet.text`. \n",
    "- We extract whole tweets instead of default truncated texts and call for argument `tweet_mode = \"extended\"`\n",
    "\n",
    "**[Data sharing guidelines]**<br>\n",
    "To access Twitter APIs, users are required to register an application which can only access public information on Twitter (i.e. tweets). Tweets are public and do not involve data sharing concerns. "
   ]
  },
  {
   "cell_type": "code",
   "execution_count": null,
   "metadata": {},
   "outputs": [],
   "source": [
    "# collect tweets\n",
    "\n",
    "csvFile = open('tesco_tweets.csv', 'a')\n",
    "csvWriter = csv.writer(csvFile)\n",
    "\n",
    "for tweet in tweepy.Cursor(api.search,\n",
    "                           q = \"@tesco OR #tesco -filter:retweets\",\n",
    "                           since = \"2019-11-14\",\n",
    "                           until = \"2019-11-15\",\n",
    "                           lang = \"en\",\n",
    "                           tweet_mode = \"extended\").items():\n",
    "\n",
    "# write a row to the csv file\n",
    "    csvWriter.writerow([tweet.created_at, tweet.full_text])  \n",
    "    print (tweet.created_at, tweet.full_text)\n",
    "csvFile.close()"
   ]
  },
  {
   "cell_type": "code",
   "execution_count": 85,
   "metadata": {},
   "outputs": [
    {
     "data": {
      "text/html": [
       "<div>\n",
       "<style scoped>\n",
       "    .dataframe tbody tr th:only-of-type {\n",
       "        vertical-align: middle;\n",
       "    }\n",
       "\n",
       "    .dataframe tbody tr th {\n",
       "        vertical-align: top;\n",
       "    }\n",
       "\n",
       "    .dataframe thead th {\n",
       "        text-align: right;\n",
       "    }\n",
       "</style>\n",
       "<table border=\"1\" class=\"dataframe\">\n",
       "  <thead>\n",
       "    <tr style=\"text-align: right;\">\n",
       "      <th></th>\n",
       "      <th>date</th>\n",
       "      <th>text</th>\n",
       "    </tr>\n",
       "  </thead>\n",
       "  <tbody>\n",
       "    <tr>\n",
       "      <th>0</th>\n",
       "      <td>2019-11-14 23:50:31</td>\n",
       "      <td>@bbclaurak Can we nationalise @Tesco or @AldiU...</td>\n",
       "    </tr>\n",
       "    <tr>\n",
       "      <th>1</th>\n",
       "      <td>2019-11-14 23:49:59</td>\n",
       "      <td>@taracartergmc @mechanic_mrs @Morrisons  @Tesc...</td>\n",
       "    </tr>\n",
       "    <tr>\n",
       "      <th>2</th>\n",
       "      <td>2019-11-14 23:39:51</td>\n",
       "      <td>@Tesco Scranning our lasses arse</td>\n",
       "    </tr>\n",
       "    <tr>\n",
       "      <th>3</th>\n",
       "      <td>2019-11-14 23:35:23</td>\n",
       "      <td>Dear @Tesco how come you can get #clubcard poi...</td>\n",
       "    </tr>\n",
       "    <tr>\n",
       "      <th>4</th>\n",
       "      <td>2019-11-14 23:34:54</td>\n",
       "      <td>My @Tesco delivery is late...booked a 7 - 11 s...</td>\n",
       "    </tr>\n",
       "  </tbody>\n",
       "</table>\n",
       "</div>"
      ],
      "text/plain": [
       "                  date                                               text\n",
       "0  2019-11-14 23:50:31  @bbclaurak Can we nationalise @Tesco or @AldiU...\n",
       "1  2019-11-14 23:49:59  @taracartergmc @mechanic_mrs @Morrisons  @Tesc...\n",
       "2  2019-11-14 23:39:51                   @Tesco Scranning our lasses arse\n",
       "3  2019-11-14 23:35:23  Dear @Tesco how come you can get #clubcard poi...\n",
       "4  2019-11-14 23:34:54  My @Tesco delivery is late...booked a 7 - 11 s..."
      ]
     },
     "execution_count": 85,
     "metadata": {},
     "output_type": "execute_result"
    }
   ],
   "source": [
    "# read saved csv file\n",
    "tesco_df = pd.read_csv(\"tesco_tweets.csv\", header = None, \n",
    "                       names = [\"date\",\"text\"] )\n",
    "tesco_df.head()"
   ]
  },
  {
   "cell_type": "code",
   "execution_count": 6,
   "metadata": {},
   "outputs": [
    {
     "data": {
      "text/plain": [
       "(1002, 2)"
      ]
     },
     "execution_count": 6,
     "metadata": {},
     "output_type": "execute_result"
    }
   ],
   "source": [
    "tesco_df.shape"
   ]
  },
  {
   "cell_type": "code",
   "execution_count": 7,
   "metadata": {},
   "outputs": [
    {
     "name": "stdout",
     "output_type": "stream",
     "text": [
      "0    @bbclaurak Can we nationalise @Tesco or @AldiU...\n",
      "1    @taracartergmc @mechanic_mrs @Morrisons  @Tesc...\n",
      "2                     @Tesco Scranning our lasses arse\n",
      "3    Dear @Tesco how come you can get #clubcard poi...\n",
      "4    My @Tesco delivery is late...booked a 7 - 11 s...\n",
      "5            @Tesco Discriminates against poor people.\n",
      "6         Oh @Tesco that Casablanca ad is truly awful.\n",
      "7    @Crackintosh_ @Tesco The pastry’s the best par...\n",
      "8    @Tesco So basically if someone can't commit £7...\n",
      "9    @Tesco These days I start my day with a peanut...\n",
      "Name: text, dtype: object\n"
     ]
    },
    {
     "data": {
      "text/plain": [
       "pandas.core.series.Series"
      ]
     },
     "execution_count": 7,
     "metadata": {},
     "output_type": "execute_result"
    }
   ],
   "source": [
    "# we are more interested in the 'text' feature of the tweets we have extracted \n",
    "# and not the datetime given we limited the tweets to be from only 14th Nov 2019.\n",
    "tesco_tweets = tesco_df['text']\n",
    "print(tesco_tweets[0:10])\n",
    "type(tesco_tweets)"
   ]
  },
  {
   "cell_type": "markdown",
   "metadata": {},
   "source": [
    "A total of 1002 tweets were extracted."
   ]
  },
  {
   "cell_type": "code",
   "execution_count": 8,
   "metadata": {},
   "outputs": [
    {
     "data": {
      "text/plain": [
       "\"@bbclaurak can we nationalise @tesco or @aldiuk, i'm fed up of always having to pay for my shopping.\""
      ]
     },
     "execution_count": 8,
     "metadata": {},
     "output_type": "execute_result"
    }
   ],
   "source": [
    "# we define a sample tweet which we can test with during data preprocessing stage \n",
    "# before applying the cleaning process to all tweets in the pandas Series object.\n",
    "sample_tweet = tesco_df.iloc[0]['text']\n",
    "sample_tweet = sample_tweet.lower()\n",
    "sample_tweet"
   ]
  },
  {
   "cell_type": "markdown",
   "metadata": {},
   "source": [
    "## 4. [Data Question 1] - sentiment analysis"
   ]
  },
  {
   "cell_type": "markdown",
   "metadata": {},
   "source": [
    "### 4.1 Data preprocessing"
   ]
  },
  {
   "cell_type": "markdown",
   "metadata": {},
   "source": [
    "Before tokenising data for analysis, we clean the tweets.\n",
    "- We remove special characters (punctuations, special characters and numericals).\n",
    "- We normalise text to all lowercase\n",
    "- We normalise text and convert apostrophed phrases to standard lexicon (otherwise tokenize will return words like `couldn't` as `couldn'` and `t` instead of `could` and `not`.\n",
    "- We don't take onto consideration emojis in this analysis (TextBlob cannot handel emojis and emoticons).\n",
    "- We don't correct for spelling mistakes. Functions e.g. `TextBlob().correct()` are able to make simple spelling corrections. However, as shown below, corrections are not always accurate, especially when dealing with proper nouns ('Tesco' was converted to 'test'). For our purpose it's not crucial to correct for spelling mistakes as we're looking  for the average sentiment towards Tesco, so effect of spelling errors should average out across all tweets.\n",
    "- We normalise text by lemmatizing and stemming; returning words to their base. "
   ]
  },
  {
   "cell_type": "code",
   "execution_count": 10,
   "metadata": {},
   "outputs": [
    {
     "data": {
      "text/plain": [
       "TextBlob(\"@bbclaurak can we nationalism @test or @aldiuk, i'm fed up of always having to pay for my shopping.\")"
      ]
     },
     "execution_count": 10,
     "metadata": {},
     "output_type": "execute_result"
    }
   ],
   "source": [
    "# why we don't correct for spelling errors using TextBlob().correct()\n",
    "TextBlob(sample_tweet).correct()"
   ]
  },
  {
   "cell_type": "markdown",
   "metadata": {},
   "source": [
    "- 'nationalise' was incorrectly converted to 'nationalism'\n",
    "- 'tesco' was incorrectly converted to 'test'"
   ]
  },
  {
   "cell_type": "code",
   "execution_count": 11,
   "metadata": {},
   "outputs": [],
   "source": [
    "# Apostrophe dictionary. %load ./NLP/appos.py. \n",
    "# We load this dictionary for converting apostrophes to standard lexicon.\n",
    "appos = {\n",
    "\"aren't\" : \"are not\", \"can't\" : \"cannot\", \"couldn't\" : \"could not\",\n",
    "\"didn't\" : \"did not\", \"doesn't\" : \"does not\", \"don't\" : \"do not\",\n",
    "\"hadn't\" : \"had not\", \"hasn't\" : \"has not\", \"haven't\" : \"have not\",\n",
    "\"he'd\" : \"he would\", \"he'll\" : \"he will\", \"he's\" : \"he is\",\n",
    "\"i'd\" : \"I would\", \"i'd\" : \"I had\", \"i'll\" : \"I will\",\n",
    "\"i'm\" : \"I am\", \"isn't\" : \"is not\", \"it's\" : \"it is\",\n",
    "\"it'll\":\"it will\", \"i've\" : \"I have\", \"let's\" : \"let us\",\n",
    "\"mightn't\" : \"might not\", \"mustn't\" : \"must not\", \"shan't\" : \"shall not\",\n",
    "\"she'd\" : \"she would\", \"she'll\" : \"she will\", \"she's\" : \"she is\",\n",
    "\"shouldn't\" : \"should not\", \"that's\" : \"that is\", \"there's\" : \"there is\",\n",
    "\"they'd\" : \"they would\", \"they'll\" : \"they will\", \"they're\" : \"they are\",\n",
    "\"they've\" : \"they have\", \"we'd\" : \"we would\", \"we're\" : \"we are\",\n",
    "\"weren't\" : \"were not\", \"we've\" : \"we have\", \"what'll\" : \"what will\",\n",
    "\"what're\" : \"what are\", \"what's\" : \"what is\", \"what've\" : \"what have\",\n",
    "\"where's\" : \"where is\", \"who'd\" : \"who would\", \"who'll\" : \"who will\",\n",
    "\"who're\" : \"who are\", \"who's\" : \"who is\", \"who've\" : \"who have\",\n",
    "\"won't\" : \"will not\", \"wouldn't\" : \"would not\", \"you'd\" : \"you would\",\n",
    "\"you'll\" : \"you will\", \"you're\" : \"you are\", \"you've\" : \"you have\",\n",
    "\"'re\": \" are\", \"wasn't\": \"was not\", \"we'll\":\" will\", \"didn't\": \"did not\"\n",
    "}\n"
   ]
  },
  {
   "cell_type": "code",
   "execution_count": 12,
   "metadata": {},
   "outputs": [],
   "source": [
    "def clean_tweet(tweet):\n",
    "    \n",
    "    #################\n",
    "    # NORMALISATION #\n",
    "    #################\n",
    "    \n",
    "    # change everything to lower case\n",
    "    tweet = tweet.lower()\n",
    "    \n",
    "    # converting apostrophes to standard lexicons\n",
    "    # we use the re.split() method to break a string at each space and keeping apostrophed words together \n",
    "    # before converting apostrophed words to standard lexicon\n",
    "    words = tweet.split()\n",
    "    tweet = [appos[w] if w in appos else w for w in words]\n",
    "    tweet = \" \".join(tweet) \n",
    "    \n",
    "    # stem words\n",
    "    tweet = PorterStemmer().stem(tweet)\n",
    "    \n",
    "    # lemmatize words\n",
    "    tweet = WordNetLemmatizer().lemmatize(tweet)\n",
    "    \n",
    "    ############\n",
    "    # TOKENIZE #\n",
    "    ############\n",
    "    \n",
    "    words = word_tokenize(tweet)\n",
    "    \n",
    "    # remove words that belong to the stopwords list from the NLTK corpus. stopwords are words like 'and', 'you', and 'I' \n",
    "    # that add little value to our model and would only clutter our corpus.\n",
    "    # remove punctuations and special characters and numerical tokens which do not contribute to sentiment.\n",
    "    words = [w for w in words if w not in stopwords.words('english') and w.isalpha()]\n",
    "    \n",
    "    # join list of words \n",
    "    text = ' '.join(words)\n",
    "    \n",
    "    return text"
   ]
  },
  {
   "cell_type": "code",
   "execution_count": 13,
   "metadata": {},
   "outputs": [
    {
     "name": "stdout",
     "output_type": "stream",
     "text": [
      "Original Text:@bbclaurak Can we nationalise @Tesco or @AldiUK, I'm fed up of always having to pay for my shopping.\n",
      "Cleaned Text:bbclaurak nationalise tesco aldiuk fed always pay shopping\n",
      "--------------\n",
      "Original Text:@taracartergmc @mechanic_mrs @Morrisons  @Tesco  @asda  you lot are missing a trick, get supplying your 20p-30p paracetamol to the NHS. You'll make money and save the tax payer £££££££\n",
      "Cleaned Text:taracartergmc morrisons tesco asda lot missing trick get supplying paracetamol nhs make money save tax payer\n",
      "--------------\n",
      "Original Text:@Tesco Scranning our lasses arse\n",
      "Cleaned Text:tesco scranning lasses ars\n",
      "--------------\n",
      "Original Text:Dear @Tesco how come you can get #clubcard points on booze but not on tobacco products (including Rizla) what are the morals of Tesco ?\n",
      "Cleaned Text:dear tesco come get clubcard points booze tobacco products including rizla morals tesco\n",
      "--------------\n",
      "Original Text:My @Tesco delivery is late...booked a 7 - 11 slot and got one text saying it'll be delivered from 7 - 11:05. It's now 11:32 and I start work at 8:30 😩 anyone awake to help?\n",
      "Cleaned Text:tesco delivery late booked slot got one text saying delivered start work anyone awake help\n",
      "--------------\n"
     ]
    }
   ],
   "source": [
    "# we check if our function works using with some sample tweets.\n",
    "\n",
    "for i in range(0,5):\n",
    "    print(\"Original Text:\" + tesco_df.iloc[i]['text'])\n",
    "    print(\"Cleaned Text:\" + clean_tweet(tesco_df.iloc[i]['text']))\n",
    "    print(\"--------------\")\n",
    "    "
   ]
  },
  {
   "cell_type": "markdown",
   "metadata": {},
   "source": [
    "We see that cleaning the tweets can lose some meaning of the original sentence. 'fed up' (negative sentiment) became 'fed' and lost its original meaning."
   ]
  },
  {
   "cell_type": "code",
   "execution_count": 14,
   "metadata": {},
   "outputs": [],
   "source": [
    "tesco_tweets = tesco_tweets.apply(lambda x: clean_tweet(x))"
   ]
  },
  {
   "cell_type": "code",
   "execution_count": 15,
   "metadata": {},
   "outputs": [
    {
     "data": {
      "text/plain": [
       "0    bbclaurak nationalise tesco aldiuk fed always ...\n",
       "1    taracartergmc morrisons tesco asda lot missing...\n",
       "2                           tesco scranning lasses ars\n",
       "3    dear tesco come get clubcard points booze toba...\n",
       "4    tesco delivery late booked slot got one text s...\n",
       "5                      tesco discriminates poor people\n",
       "6                   oh tesco casablanca ad truly awful\n",
       "7                 tesco pastry best part stop complain\n",
       "8    tesco basically someone commit month saying de...\n",
       "9    tesco days start day peanut butter jam sandwic...\n",
       "Name: text, dtype: object"
      ]
     },
     "execution_count": 15,
     "metadata": {},
     "output_type": "execute_result"
    }
   ],
   "source": [
    "tesco_tweets[0:10]"
   ]
  },
  {
   "cell_type": "markdown",
   "metadata": {},
   "source": [
    "### 4.2. Taking a look at the most common words (using BoWs) to get a sense of overall sentiment"
   ]
  },
  {
   "cell_type": "markdown",
   "metadata": {},
   "source": [
    "We start with simplest model, BoW, which is a representation of text that describes the occurence of words within a document. Any information about the order or structure of words in the document is discarded. <br>\n",
    "- We specify that we need no more than 10000 features -- i.e. 10000 unique terms. \n",
    "\n",
    "- We also specify the min_df parameter to be 0.01 (our terms should at least be used in 1% of our tweets.\n",
    "\n",
    "- We set an ngram_range of (1,2). This means that we're only looking for words (length = 1), as well as bigrams(phrases). We ignore trigrams as trigrams that appear > 0.5% in the corpus are different combinations of the name of Tesco and its competitors (e.g. tesco, asda, morrisons) (see below)\n",
    "- We set min_df = 0.005, through trial and error, this was set to a level such that words which appear like twitter account names are filtered out."
   ]
  },
  {
   "cell_type": "code",
   "execution_count": 16,
   "metadata": {},
   "outputs": [
    {
     "data": {
      "text/plain": [
       "<1002x444 sparse matrix of type '<class 'numpy.int64'>'\n",
       "\twith 7083 stored elements in Compressed Sparse Row format>"
      ]
     },
     "execution_count": 16,
     "metadata": {},
     "output_type": "execute_result"
    }
   ],
   "source": [
    "# Learn the vocabulary dictionary and return term-document matrix.\n",
    "vector = CountVectorizer(max_features= 10000, min_df = 0.005, ngram_range= (1,2))\n",
    "\n",
    "# We use the fit_transform() function to apply the above to our tweets. \n",
    "bag_of_words = vector.fit_transform(tesco_tweets)\n",
    "\n",
    "bag_of_words"
   ]
  },
  {
   "cell_type": "markdown",
   "metadata": {},
   "source": [
    "This is a sparse matrix of:\n",
    "- 1002 documents - i.e. tweets\n",
    "- 444 unique terms <br>\n",
    "\n",
    "Where each cell represents the number of times the term in question occurs in the document in question. <br> "
   ]
  },
  {
   "cell_type": "code",
   "execution_count": 17,
   "metadata": {
    "scrolled": false
   },
   "outputs": [
    {
     "name": "stdout",
     "output_type": "stream",
     "text": [
      "['able', 'absolutely', 'account', 'actually', 'ad', 'advert', 'ago', 'aldi', 'aldiuk', 'aldiuk tesco', 'almost', 'already', 'also', 'always', 'amazing', 'amp', 'another', 'answer', 'anymore', 'anyone', 'around', 'asda', 'asda morrisons', 'asda rspotweets', 'asked', 'assistant', 'available', 'away', 'awful', 'back', 'bad', 'bag', 'bags', 'bags help', 'bagsofhelp', 'beef', 'believe', 'best', 'better', 'big', 'biscuits', 'bit', 'bought', 'box', 'boxes', 'branch', 'brand', 'bread', 'buy', 'buying', 'called', 'campaign', 'cant', 'car', 'card', 'casablanca', 'change', 'check', 'checkout', 'cheese', 'chicken', 'children', 'chocolate', 'chrisgpackham', 'chrisgpackham greenpeaceuk', 'christmas', 'clear', 'click', 'close', 'closed', 'clubcard', 'collect', 'come', 'comes', 'complaint', 'contact', 'coopuk', 'could', 'couple', 'customer', 'customer assistant', 'customer service', 'customers', 'cut', 'date', 'day', 'days', 'dead', 'deal', 'delivered', 'delivery', 'different', 'discount', 'disgusting', 'dm', 'done', 'done tesco', 'dont', 'driver', 'eat']\n"
     ]
    }
   ],
   "source": [
    "# looks like we've filtered out most twitter account names.\n",
    "print(vector.get_feature_names()[0:100])"
   ]
  },
  {
   "cell_type": "code",
   "execution_count": 18,
   "metadata": {},
   "outputs": [
    {
     "name": "stdout",
     "output_type": "stream",
     "text": [
      "['aldiuk tesco', 'asda morrisons', 'asda rspotweets', 'bags help', 'chrisgpackham greenpeaceuk', 'customer assistant', 'customer service', 'done tesco', 'fruit veg', 'gpukforests janegoodallinst', 'greenpeaceuk gpukforests', 'hey tesco', 'hi tesco', 'https https', 'last week', 'local tesco', 'looks like', 'meal deal', 'member staff', 'morrisons asda', 'morrisons sainsburys', 'morrisons tesco', 'mpsredbridge tesco', 'palm oil', 'paper bags', 'plastic bags', 'rspotweets chrisgpackham', 'sainsburys tesco', 'sainsburys waitrose', 'see https', 'tesco asda', 'tesco delivery', 'tesco done', 'tesco get', 'tesco good', 'tesco great', 'tesco hello', 'tesco hi', 'tesco https', 'tesco know', 'tesco looks', 'tesco morrisons', 'tesco much', 'tesco need', 'tesco one', 'tesco online', 'tesco please', 'tesco really', 'tesco sainsburys', 'tesco see', 'tesco tesco', 'tesco thank', 'tesco thanks', 'tesco waitrose', 'tesco well', 'tesco would', 'tesco yes', 'timbirchwild sainsburys', 'waitrose tesco', 'well done']\n"
     ]
    }
   ],
   "source": [
    "# Bigrams\n",
    "vector2 = CountVectorizer(max_features= 10000 , min_df=0.005, ngram_range= (2,2))\n",
    "vector2.fit_transform(tesco_tweets)\n",
    "print(vector2.get_feature_names())"
   ]
  },
  {
   "cell_type": "markdown",
   "metadata": {},
   "source": [
    "Bigrams are phrases of two words. The most frequent bigrams (appearing in the corpus > 0.5% of the time) are presented above. Most bigrams are combinations of the names of Tesco's competitors. \n",
    "\n",
    "Brief look at the bigrams suggests topics of interest to public on 14-15th Nov 2019 concerning: \n",
    "- sustainability (plastic bags, palm oil)\n",
    "- fresh food\n",
    "- positive sentiment (good, great, thanks, well done) (this suggests that the average sentiment towards Tesco is likely positive)."
   ]
  },
  {
   "cell_type": "code",
   "execution_count": 19,
   "metadata": {},
   "outputs": [
    {
     "data": {
      "text/plain": [
       "['asda morrisons sainsburys',\n",
       " 'asda rspotweets chrisgpackham',\n",
       " 'chrisgpackham greenpeaceuk gpukforests',\n",
       " 'greenpeaceuk gpukforests janegoodallinst',\n",
       " 'morrisons asda rspotweets',\n",
       " 'rspotweets chrisgpackham greenpeaceuk',\n",
       " 'sainsburys tesco morrisons',\n",
       " 'see https https',\n",
       " 'tesco asda morrisons',\n",
       " 'tesco morrisons asda',\n",
       " 'timbirchwild sainsburys tesco',\n",
       " 'well done tesco']"
      ]
     },
     "execution_count": 19,
     "metadata": {},
     "output_type": "execute_result"
    }
   ],
   "source": [
    "# we decided to ignore trigrams in our sentiment anlaysis \n",
    "# as trigrams that appear > 0.5% in the corpus are different combinations of the name of Tesco \n",
    "# and its competitors (e.g. tesco, asda, morrisons) \n",
    "vector3 = CountVectorizer(max_features= 10000 , min_df=0.005, ngram_range= (3,3))\n",
    "vector3.fit_transform(tesco_tweets)\n",
    "vector3.get_feature_names()"
   ]
  },
  {
   "cell_type": "code",
   "execution_count": 20,
   "metadata": {},
   "outputs": [
    {
     "data": {
      "text/plain": [
       "[('tesco', 1166),\n",
       " ('https', 332),\n",
       " ('store', 86),\n",
       " ('one', 81),\n",
       " ('get', 70),\n",
       " ('would', 69),\n",
       " ('like', 63),\n",
       " ('sainsburys', 62),\n",
       " ('asda', 60),\n",
       " ('thank', 57)]"
      ]
     },
     "execution_count": 20,
     "metadata": {},
     "output_type": "execute_result"
    }
   ],
   "source": [
    "# find the sum of occurences of each term\n",
    "sum_of_words = bag_of_words.sum(axis = 0)\n",
    "\n",
    "# create a list of tuples where each element represents the term in question and\n",
    "# how many times it occurs in our corpus.\n",
    "words_freq = [(word, sum_of_words[0, idx]) for word, idx in vector.vocabulary_.items()]\n",
    "\n",
    "# sort in decreasing order of frequency\n",
    "words_freq = sorted(words_freq, key = lambda x: x[1], reverse = True)\n",
    "words_freq[0:10]"
   ]
  },
  {
   "cell_type": "code",
   "execution_count": 94,
   "metadata": {},
   "outputs": [
    {
     "data": {
      "text/plain": [
       "Text(0,0.5,'word')"
      ]
     },
     "execution_count": 94,
     "metadata": {},
     "output_type": "execute_result"
    },
    {
     "data": {
      "image/png": "[encoded data removed]",
      "text/plain": [
       "<Figure size 576x576 with 1 Axes>"
      ]
     },
     "metadata": {
      "needs_background": "light"
     },
     "output_type": "display_data"
    }
   ],
   "source": [
    "# visualise the top 50 most frequet words. we ignore the most frequent word 'tesco' and 'http'\n",
    "# as would distort bar chart whilst adding little additional insight.\n",
    "top_words = words_freq[3:50]\n",
    "\n",
    "word = []\n",
    "count = []\n",
    "\n",
    "for i, j in top_words:\n",
    "    word.append(i)\n",
    "    count.append(j)\n",
    "    \n",
    "# adjusting figure size\n",
    "plt.figure(figsize = (8,8))\n",
    "\n",
    "# ploting a barplot of most frequency words using seaborn\n",
    "sns.barplot(x = count, y = word)\n",
    "plt.xlabel('frequency')\n",
    "plt.ylabel('word')"
   ]
  },
  {
   "cell_type": "code",
   "execution_count": 23,
   "metadata": {
    "scrolled": true
   },
   "outputs": [
    {
     "data": {
      "image/png": "[encoded data removed]",
      "text/plain": [
       "<Figure size 648x576 with 1 Axes>"
      ]
     },
     "metadata": {
      "needs_background": "light"
     },
     "output_type": "display_data"
    }
   ],
   "source": [
    "# We also visualise through WordCloud\n",
    "words_dict = {}\n",
    "for k,v in top_words:\n",
    "    words_dict[k] = int(v)\n",
    "\n",
    "# Using the WordCloud library\n",
    "wordcloud = WordCloud(width=1000, height=500, background_color=\"white\").generate_from_frequencies(words_dict)\n",
    "\n",
    "plt.figure(figsize=(9, 8))\n",
    "plt.imshow(wordcloud, interpolation=\"bilinear\")\n",
    "plt.axis('off')\n",
    "plt.show()"
   ]
  },
  {
   "cell_type": "markdown",
   "metadata": {},
   "source": [
    "We make a couple of observations from our barplot of the top 50 terms (n_gram = 1 and 2). <br>\n",
    "1) These are all n_gram = 1. Bigrams are less frequent in the corpus (as should naturally be the case)<br>\n",
    "2) Adjectives that appear in the top 50 words in the corpus include: thank, good, well, great. Suggesting sentiment towards Tesco should be positive. <br>\n",
    "\n",
    "In the steps below, we try to quantify sentiment using TextBlob and VADER."
   ]
  },
  {
   "cell_type": "markdown",
   "metadata": {},
   "source": [
    "### 4.3 Quantifying sentiment using TextBlob"
   ]
  },
  {
   "cell_type": "markdown",
   "metadata": {},
   "source": [
    "We use **Textblob** to assign *sentiment polarity score* from -1 to 1 to each of our words. It then calculates the sum total sentiment polarity for each tweet by averaging the scores for the terms in the tweet in question. \n",
    "\n",
    "Textblob assigns sentiment scores based on pre-populated lexicon, or dictionary of words that have been previously assigned scores by humans.\n",
    "\n",
    "We define average positive / neutral / negative sentiment for Tesco in the following way: <br>\n",
    "average sentiment score >= 0.05 == positive sentiment <br>\n",
    "average sentiment score > -0.05 and < 0.05 == neutral sentiment <br>\n",
    "average sentiment score <= -0.05 == negative sentiment <br>"
   ]
  },
  {
   "cell_type": "code",
   "execution_count": 24,
   "metadata": {},
   "outputs": [
    {
     "data": {
      "text/html": [
       "<div>\n",
       "<style scoped>\n",
       "    .dataframe tbody tr th:only-of-type {\n",
       "        vertical-align: middle;\n",
       "    }\n",
       "\n",
       "    .dataframe tbody tr th {\n",
       "        vertical-align: top;\n",
       "    }\n",
       "\n",
       "    .dataframe thead th {\n",
       "        text-align: right;\n",
       "    }\n",
       "</style>\n",
       "<table border=\"1\" class=\"dataframe\">\n",
       "  <thead>\n",
       "    <tr style=\"text-align: right;\">\n",
       "      <th></th>\n",
       "      <th>text</th>\n",
       "      <th>sentiments</th>\n",
       "    </tr>\n",
       "  </thead>\n",
       "  <tbody>\n",
       "    <tr>\n",
       "      <th>0</th>\n",
       "      <td>bbclaurak nationalise tesco aldiuk fed always ...</td>\n",
       "      <td>0.0</td>\n",
       "    </tr>\n",
       "    <tr>\n",
       "      <th>1</th>\n",
       "      <td>taracartergmc morrisons tesco asda lot missing...</td>\n",
       "      <td>-0.2</td>\n",
       "    </tr>\n",
       "    <tr>\n",
       "      <th>2</th>\n",
       "      <td>tesco scranning lasses ars</td>\n",
       "      <td>0.0</td>\n",
       "    </tr>\n",
       "    <tr>\n",
       "      <th>3</th>\n",
       "      <td>dear tesco come get clubcard points booze toba...</td>\n",
       "      <td>0.0</td>\n",
       "    </tr>\n",
       "    <tr>\n",
       "      <th>4</th>\n",
       "      <td>tesco delivery late booked slot got one text s...</td>\n",
       "      <td>-0.3</td>\n",
       "    </tr>\n",
       "  </tbody>\n",
       "</table>\n",
       "</div>"
      ],
      "text/plain": [
       "                                                text  sentiments\n",
       "0  bbclaurak nationalise tesco aldiuk fed always ...         0.0\n",
       "1  taracartergmc morrisons tesco asda lot missing...        -0.2\n",
       "2                         tesco scranning lasses ars         0.0\n",
       "3  dear tesco come get clubcard points booze toba...         0.0\n",
       "4  tesco delivery late booked slot got one text s...        -0.3"
      ]
     },
     "execution_count": 24,
     "metadata": {},
     "output_type": "execute_result"
    }
   ],
   "source": [
    "# create a list of sentiment scores on each of the tweets using TextBlob\n",
    "sentiments = []\n",
    "\n",
    "for tweet in tesco_tweets:\n",
    "    analysis = TextBlob(tweet)\n",
    "    sentiments.append(analysis.sentiment.polarity)\n",
    "    \n",
    "# we add this list to a new dataframe of our tweets\n",
    "tesco_tweets_df = pd.DataFrame(tesco_tweets)\n",
    "tesco_tweets_df['sentiments'] = sentiments\n",
    "tesco_tweets_df.head()"
   ]
  },
  {
   "cell_type": "markdown",
   "metadata": {},
   "source": [
    "We take a look at tweets which attained the highest/lowest sentiment scores to sense check TextBlob's labelling."
   ]
  },
  {
   "cell_type": "code",
   "execution_count": 25,
   "metadata": {},
   "outputs": [
    {
     "data": {
      "text/html": [
       "<div>\n",
       "<style scoped>\n",
       "    .dataframe tbody tr th:only-of-type {\n",
       "        vertical-align: middle;\n",
       "    }\n",
       "\n",
       "    .dataframe tbody tr th {\n",
       "        vertical-align: top;\n",
       "    }\n",
       "\n",
       "    .dataframe thead th {\n",
       "        text-align: right;\n",
       "    }\n",
       "</style>\n",
       "<table border=\"1\" class=\"dataframe\">\n",
       "  <thead>\n",
       "    <tr style=\"text-align: right;\">\n",
       "      <th></th>\n",
       "      <th>text</th>\n",
       "      <th>sentiments</th>\n",
       "    </tr>\n",
       "  </thead>\n",
       "  <tbody>\n",
       "    <tr>\n",
       "      <th>0</th>\n",
       "      <td>tesco hi shopping delivered would like give fe...</td>\n",
       "      <td>1.0</td>\n",
       "    </tr>\n",
       "    <tr>\n",
       "      <th>1</th>\n",
       "      <td>tesco mkhospital wonderful</td>\n",
       "      <td>1.0</td>\n",
       "    </tr>\n",
       "    <tr>\n",
       "      <th>2</th>\n",
       "      <td>jimmyicedcoffee best customer appreciation tes...</td>\n",
       "      <td>1.0</td>\n",
       "    </tr>\n",
       "    <tr>\n",
       "      <th>3</th>\n",
       "      <td>tesco sounds delicious</td>\n",
       "      <td>1.0</td>\n",
       "    </tr>\n",
       "    <tr>\n",
       "      <th>4</th>\n",
       "      <td>tesco excellent thank</td>\n",
       "      <td>1.0</td>\n",
       "    </tr>\n",
       "  </tbody>\n",
       "</table>\n",
       "</div>"
      ],
      "text/plain": [
       "                                                text  sentiments\n",
       "0  tesco hi shopping delivered would like give fe...         1.0\n",
       "1                         tesco mkhospital wonderful         1.0\n",
       "2  jimmyicedcoffee best customer appreciation tes...         1.0\n",
       "3                             tesco sounds delicious         1.0\n",
       "4                              tesco excellent thank         1.0"
      ]
     },
     "execution_count": 25,
     "metadata": {},
     "output_type": "execute_result"
    }
   ],
   "source": [
    "# find most positive tweets\n",
    "positive = tesco_tweets_df.sort_values(by = 'sentiments', ascending = False)\n",
    "positive = positive.reset_index(drop=True)\n",
    "positive.head(5)"
   ]
  },
  {
   "cell_type": "code",
   "execution_count": 26,
   "metadata": {},
   "outputs": [
    {
     "data": {
      "text/html": [
       "<div>\n",
       "<style scoped>\n",
       "    .dataframe tbody tr th:only-of-type {\n",
       "        vertical-align: middle;\n",
       "    }\n",
       "\n",
       "    .dataframe tbody tr th {\n",
       "        vertical-align: top;\n",
       "    }\n",
       "\n",
       "    .dataframe thead th {\n",
       "        text-align: right;\n",
       "    }\n",
       "</style>\n",
       "<table border=\"1\" class=\"dataframe\">\n",
       "  <thead>\n",
       "    <tr style=\"text-align: right;\">\n",
       "      <th></th>\n",
       "      <th>text</th>\n",
       "      <th>sentiments</th>\n",
       "    </tr>\n",
       "  </thead>\n",
       "  <tbody>\n",
       "    <tr>\n",
       "      <th>0</th>\n",
       "      <td>amollygoodfella tesco nobody likes sunbites aw...</td>\n",
       "      <td>-1.0</td>\n",
       "    </tr>\n",
       "    <tr>\n",
       "      <th>1</th>\n",
       "      <td>well done tesco veganism way go animals planet...</td>\n",
       "      <td>-1.0</td>\n",
       "    </tr>\n",
       "    <tr>\n",
       "      <th>2</th>\n",
       "      <td>tesco travelers tweeted behaviour employee dis...</td>\n",
       "      <td>-1.0</td>\n",
       "    </tr>\n",
       "    <tr>\n",
       "      <th>3</th>\n",
       "      <td>tesco casablanca advert literally worst advert...</td>\n",
       "      <td>-1.0</td>\n",
       "    </tr>\n",
       "    <tr>\n",
       "      <th>4</th>\n",
       "      <td>oh tesco casablanca ad truly awful</td>\n",
       "      <td>-1.0</td>\n",
       "    </tr>\n",
       "  </tbody>\n",
       "</table>\n",
       "</div>"
      ],
      "text/plain": [
       "                                                text  sentiments\n",
       "0  amollygoodfella tesco nobody likes sunbites aw...        -1.0\n",
       "1  well done tesco veganism way go animals planet...        -1.0\n",
       "2  tesco travelers tweeted behaviour employee dis...        -1.0\n",
       "3  tesco casablanca advert literally worst advert...        -1.0\n",
       "4                 oh tesco casablanca ad truly awful        -1.0"
      ]
     },
     "execution_count": 26,
     "metadata": {},
     "output_type": "execute_result"
    }
   ],
   "source": [
    "# find most negative tweets\n",
    "negative = tesco_tweets_df.sort_values(by='sentiments', ascending = True)\n",
    "negative = negative.reset_index(drop=True)\n",
    "negative.head(5)"
   ]
  },
  {
   "cell_type": "code",
   "execution_count": 28,
   "metadata": {},
   "outputs": [
    {
     "data": {
      "text/plain": [
       "<matplotlib.axes._subplots.AxesSubplot at 0x1a21938710>"
      ]
     },
     "execution_count": 28,
     "metadata": {},
     "output_type": "execute_result"
    },
    {
     "data": {
      "image/png": "[encoded data removed]",
      "text/plain": [
       "<Figure size 576x360 with 1 Axes>"
      ]
     },
     "metadata": {
      "needs_background": "light"
     },
     "output_type": "display_data"
    }
   ],
   "source": [
    "plt.figure(figsize = (8,5))\n",
    "sns.distplot(tesco_tweets_df['sentiments'], bins = 50)"
   ]
  },
  {
   "cell_type": "markdown",
   "metadata": {},
   "source": [
    "Histogram suggests distribution is more skewed to the positive end.\n",
    "Below we calculate a central tendency measure (the average) of the sentiment scores for the tweets extracted."
   ]
  },
  {
   "cell_type": "code",
   "execution_count": 53,
   "metadata": {},
   "outputs": [
    {
     "data": {
      "text/plain": [
       "sentiments    0.080529\n",
       "dtype: float64"
      ]
     },
     "execution_count": 53,
     "metadata": {},
     "output_type": "execute_result"
    }
   ],
   "source": [
    "average_sentiment = tesco_tweets_df[['sentiments']].mean(axis = 0)\n",
    "average_sentiment"
   ]
  },
  {
   "cell_type": "markdown",
   "metadata": {},
   "source": [
    "The average sentiment score is positive (>0.05) at 0.08.\n",
    "Quantifying sentiment using TextBlob also points to average positive sentiment towards Tesco."
   ]
  },
  {
   "cell_type": "markdown",
   "metadata": {},
   "source": [
    "### 4.3 Quantifying using VADER (Valence Aware Dictionary and sEntiment Reasoner)"
   ]
  },
  {
   "cell_type": "markdown",
   "metadata": {},
   "source": [
    "So far we have ignored punctuations, conjunctions, emojis, emoticons when analysing text sentiment. <br>\n",
    "These however, are often key in conveying emotions and sentiment. <br>\n",
    "In this section, we use VADER to quantify sentiment.<br>\n",
    "\n",
    "VADER is a lexicon and rule-based sentiment analysis tool that is specically attuned to sentiments expressed in social media.\n",
    "\n",
    "compound score >= 0.05 == positive sentiment <br>\n",
    "compound score > -0.05 and < 0.05 == neutral sentiment <br>\n",
    "compound score <= -0.05 == negative sentiment"
   ]
  },
  {
   "cell_type": "code",
   "execution_count": 32,
   "metadata": {},
   "outputs": [],
   "source": [
    "# We use raw tweets which includes punctuations, conjunctions, emojis, emoticons, slangs as \n",
    "# VADER analyses sentiments based on these. \n",
    "tesco_tweets_vader = tesco_df['text']\n",
    "\n",
    "# create a list of sentiment scores on each of the tweets using .polarity_scores from VADER\n",
    "sentiments_vader = []\n",
    "\n",
    "# polarity_scores() give 4 metrics: neg, neu, pos, compound.\n",
    "# pos, neg, neu scores represent the proportion of text that falls in these categories\n",
    "# the compound score is a metric that calculates the sum of all the lexicon ratings which\n",
    "# have been normalized between -1 and +1.\n",
    "# we extract the compound score in the loop\n",
    "for tweet in tesco_tweets_vader:\n",
    "    analysis = analyser.polarity_scores(tweet)\n",
    "    compound = list(analysis.items())[3]\n",
    "    score = compound[1]\n",
    "    sentiments_vader.append(score)\n",
    "    \n",
    "# we add this list to a new dataframe of our tweets\n",
    "tesco_tweets_vader_df = pd.DataFrame(tesco_tweets_vader)\n",
    "tesco_tweets_vader_df['sentiments_vader'] = sentiments_vader"
   ]
  },
  {
   "cell_type": "code",
   "execution_count": 33,
   "metadata": {},
   "outputs": [
    {
     "data": {
      "text/plain": [
       "{'neg': 0.076, 'neu': 0.924, 'pos': 0.0, 'compound': -0.1027}"
      ]
     },
     "execution_count": 33,
     "metadata": {},
     "output_type": "execute_result"
    }
   ],
   "source": [
    "# we test VADER's analyser.polarity with our sample_tweet\n",
    "analyser.polarity_scores(sample_tweet)"
   ]
  },
  {
   "cell_type": "markdown",
   "metadata": {},
   "source": [
    "VADER's analyser.polarity identifies the sample_tweet as 7.6% negative, 92.4% neutral and 0% positive. <br>\n",
    "Equating to a compound score of -0.1027; a tweet of negative sentiment according to our definition for pos/neu/neg sentiment above."
   ]
  },
  {
   "cell_type": "code",
   "execution_count": 34,
   "metadata": {},
   "outputs": [
    {
     "data": {
      "text/plain": [
       "<matplotlib.axes._subplots.AxesSubplot at 0x1a20c54d30>"
      ]
     },
     "execution_count": 34,
     "metadata": {},
     "output_type": "execute_result"
    },
    {
     "data": {
      "image/png": "[encoded data removed]",
      "text/plain": [
       "<Figure size 576x360 with 1 Axes>"
      ]
     },
     "metadata": {
      "needs_background": "light"
     },
     "output_type": "display_data"
    }
   ],
   "source": [
    "# we plot the VADER sentiment score distribution \n",
    "plt.figure(figsize = (8,5))\n",
    "sns.distplot(tesco_tweets_vader_df['sentiments_vader'], bins = 50)"
   ]
  },
  {
   "cell_type": "markdown",
   "metadata": {},
   "source": [
    "Distribution to VADER's score also seem to be skewed to the positive end.\n",
    "However, unlike TextBlob's sentiment polarity scores, fewer tweets are considered 'Neutral' in sentiment. We see higher proportion of tweets distribution either in the 'positive' or 'negative' end of the spectrum.\n",
    "Below we calculate a central tendency measure (the average) of the sentiment scores for the tweets extracted."
   ]
  },
  {
   "cell_type": "code",
   "execution_count": 58,
   "metadata": {},
   "outputs": [
    {
     "data": {
      "text/plain": [
       "sentiments_vader    0.147468\n",
       "dtype: float64"
      ]
     },
     "execution_count": 58,
     "metadata": {},
     "output_type": "execute_result"
    }
   ],
   "source": [
    "average_sentiment_vader = tesco_tweets_vader_df[['sentiments_vader']].mean(axis = 0)\n",
    "average_sentiment_vader"
   ]
  },
  {
   "cell_type": "markdown",
   "metadata": {},
   "source": [
    "We reach the same conclusion as TextBlob, that on average sentiment towards Tesco is positive.\n",
    "However, individually (as suggested by histogram) the scores might be different. We take a look below."
   ]
  },
  {
   "cell_type": "code",
   "execution_count": 35,
   "metadata": {},
   "outputs": [
    {
     "name": "stdout",
     "output_type": "stream",
     "text": [
      "Original Text: @2Heatherb1987 @OCC_shoeboxes @Tesco @RuncornFoodbank @ksjceaided That is just fantastic xx\n",
      "VADER score:  0.5574\n",
      "TextBlob score 0.4\n",
      "-------------------\n",
      "Original Text: @Tesco Nothing from your shop\n",
      "VADER score:  0.0\n",
      "TextBlob score 0.0\n",
      "-------------------\n",
      "Original Text: @Tesco Overnight oats, easiest office job breakfast ever\n",
      "VADER score:  0.4215\n",
      "TextBlob score 0.0\n",
      "-------------------\n",
      "Original Text: Is Tesco parcel to ?? , well in hexham round up shoe boxes for a male / female  “parcels /not to food bank , but to ??? Last time I will shop @Tesco\n",
      "VADER score:  0.3632\n",
      "TextBlob score -0.05\n",
      "-------------------\n",
      "Original Text: @Tesco You are not. This picture was taken today. Totally unacceptable and unnecessary plastic packaging. Ridiculous reply.\n",
      "VADER score:  -0.6997\n",
      "TextBlob score -0.244444444444\n",
      "-------------------\n"
     ]
    }
   ],
   "source": [
    "# compare sentiment score assigned using VADER and using TextBlob.\n",
    "for i in range(10,15):\n",
    "    print(\"Original Text: \" + tesco_tweets_vader[i])\n",
    "    print(\"VADER score: \", tesco_tweets_vader_df.iloc[i]['sentiments_vader'])\n",
    "    print(\"TextBlob score\", tesco_tweets_df.iloc[i]['sentiments'])\n",
    "    print(\"-------------------\")"
   ]
  },
  {
   "cell_type": "markdown",
   "metadata": {},
   "source": [
    "VADER and TextBlob scores don't always agree. e.g. in the third tweet above, VADER considers this positive whilst TextBlob neutral; in the 4th tweet, which reads across as negative in sentiment, VADER assigned +ve score whilst TextBlob largely neutral. "
   ]
  },
  {
   "cell_type": "markdown",
   "metadata": {},
   "source": [
    "### 4.4 [Conclusion - Data Question 1] <br>\n",
    "**[Conclusion to data questions]** <br>\n",
    "We assessed tweet sentiment on Tesco using three differnt methods, each concluding that on average, sentiment towards Tesco is positive. We accept our null hypothesis set out in the brief. We're unable to precisely quantify how positive the sentiment is on an absolute basis, given our quick sense check of scores assigned by TextBlob and VADER shows that TextBlob/VADER doesn't always agree with intuitive understanding of text context, likely as the algorithms are unable to deal with inflection (semantics, syntax) for example.  \n",
    "\n",
    "**[Avenues for further study and limitations of the model]** <br>\n",
    "1) We are currently using 1002 tweets for our sentiment and classification analysis (using tweets with mentionings of Tesco between 14-Nov-2019 and 15-Nov-2019. As tweets extraction is computationally expensive and takes a long time to run, we have limited our data to only 1002 tweets on tweets posted on a specific date. Though our analysis conclude that the sentiment towards Tesco is on average positive, we do not know how generally applicable this is, i.e. whether Tesco happened to have had a particularly good day on our dataset due to specific advertising campaigns. For further studies, we could run our analysis on a bigger dataset and see if there are significant differences in sentiment day on day."
   ]
  },
  {
   "cell_type": "markdown",
   "metadata": {},
   "source": [
    "## 5. [Data Question 2] - Text Classification"
   ]
  },
  {
   "cell_type": "markdown",
   "metadata": {},
   "source": [
    "To answer our data question *<font color = 'brown'> (\"We assess whether tweets are easily classifiable based on their sentiment. Our null hypothesis is that tweets are easily classifiable (as measured by being able to formulate a classficatio model based on sentiment able to achieve F1-score > 0.7).\")* </font> , we test a range of classification models and alternative methods for word embeddings (BoW, TD-IDF, Word2Vec) and assesss the f1 score of each of the models.\n",
    "\n",
    "Classification models are supervised learning approaches, requiring labelled data. As such we need our tweets to be labelled by sentiment. We categorize sentiment based on TextBlob sentiment scores from the previous section and use these sentiment categories to train our model. \n",
    "<font color = 'green'> *We note that this exercise could seem a bit redundant, given sentiment scores were model assigned, i.e. we could achieve 100% accuracy to use TextBlob for prediction. It would be better to have data with sentiments assigned by humans for example.*"
   ]
  },
  {
   "cell_type": "code",
   "execution_count": 36,
   "metadata": {},
   "outputs": [],
   "source": [
    "# create a new column that categorises sentiment -- 'negative' if <0\n",
    "#'positive' if >0 and 'neutral' if equal to 0.\n",
    "tesco_tweets_df['sentiment_category'] = np.where(tesco_tweets_df['sentiments'] >0, 'positive',\n",
    "                                          np.where(tesco_tweets_df['sentiments'] == 0, 'neutral', 'negative'))"
   ]
  },
  {
   "cell_type": "code",
   "execution_count": 37,
   "metadata": {},
   "outputs": [
    {
     "data": {
      "text/html": [
       "<div>\n",
       "<style scoped>\n",
       "    .dataframe tbody tr th:only-of-type {\n",
       "        vertical-align: middle;\n",
       "    }\n",
       "\n",
       "    .dataframe tbody tr th {\n",
       "        vertical-align: top;\n",
       "    }\n",
       "\n",
       "    .dataframe thead th {\n",
       "        text-align: right;\n",
       "    }\n",
       "</style>\n",
       "<table border=\"1\" class=\"dataframe\">\n",
       "  <thead>\n",
       "    <tr style=\"text-align: right;\">\n",
       "      <th></th>\n",
       "      <th>text</th>\n",
       "      <th>sentiments</th>\n",
       "      <th>sentiment_category</th>\n",
       "    </tr>\n",
       "  </thead>\n",
       "  <tbody>\n",
       "    <tr>\n",
       "      <th>0</th>\n",
       "      <td>bbclaurak nationalise tesco aldiuk fed always ...</td>\n",
       "      <td>0.0</td>\n",
       "      <td>neutral</td>\n",
       "    </tr>\n",
       "    <tr>\n",
       "      <th>1</th>\n",
       "      <td>taracartergmc morrisons tesco asda lot missing...</td>\n",
       "      <td>-0.2</td>\n",
       "      <td>negative</td>\n",
       "    </tr>\n",
       "    <tr>\n",
       "      <th>2</th>\n",
       "      <td>tesco scranning lasses ars</td>\n",
       "      <td>0.0</td>\n",
       "      <td>neutral</td>\n",
       "    </tr>\n",
       "    <tr>\n",
       "      <th>3</th>\n",
       "      <td>dear tesco come get clubcard points booze toba...</td>\n",
       "      <td>0.0</td>\n",
       "      <td>neutral</td>\n",
       "    </tr>\n",
       "    <tr>\n",
       "      <th>4</th>\n",
       "      <td>tesco delivery late booked slot got one text s...</td>\n",
       "      <td>-0.3</td>\n",
       "      <td>negative</td>\n",
       "    </tr>\n",
       "  </tbody>\n",
       "</table>\n",
       "</div>"
      ],
      "text/plain": [
       "                                                text  sentiments  \\\n",
       "0  bbclaurak nationalise tesco aldiuk fed always ...         0.0   \n",
       "1  taracartergmc morrisons tesco asda lot missing...        -0.2   \n",
       "2                         tesco scranning lasses ars         0.0   \n",
       "3  dear tesco come get clubcard points booze toba...         0.0   \n",
       "4  tesco delivery late booked slot got one text s...        -0.3   \n",
       "\n",
       "  sentiment_category  \n",
       "0            neutral  \n",
       "1           negative  \n",
       "2            neutral  \n",
       "3            neutral  \n",
       "4           negative  "
      ]
     },
     "execution_count": 37,
     "metadata": {},
     "output_type": "execute_result"
    }
   ],
   "source": [
    "tesco_tweets_df.head()"
   ]
  },
  {
   "cell_type": "markdown",
   "metadata": {},
   "source": [
    "### 5.1. Feature extraction -  BoW model vs. TF-IDF vs. Word2Vec"
   ]
  },
  {
   "cell_type": "markdown",
   "metadata": {},
   "source": [
    "Effectiveness of text classifcation models depend on both feature extraction method and the classifer used. Below we explore a range of embedding methods and classification models.\n",
    "\n",
    "Classification models cannot work with text directly, but take vetors of numbers as inputs. We need to convert tweets into vectors of numbers.\n",
    "\n",
    "Two basic methods of feature extraction from text (methods of vectorization) is bag-of-words and TF-IDF\n",
    "\n",
    "- **Bag-of-Words:**<br>\n",
    "Captures basic term frequency. We looked at this briefly above when assessing overall sentiment towards Tesco. This method is based on counting how many times a given word appears in the corpus vocabulary. <br>\n",
    "<br>\n",
    "\n",
    "- **TF-IDF (Term frequency, inverse document frequency):**<br>\n",
    "This can be used on top of the BoW model. Unlike BoW model, TF-IDF weighs words by how rare they are in the dataset, discounting words that are too frequent. <br>\n",
    "\n",
    "A more advanced embedding method is Word2Vec.\n",
    "\n",
    "- **Word2Vec**<br>\n",
    "Word2Vec can capture semantic meaning of words, i.e. how close 2 words are in meaning, this is not something that is captured by BoW or TD-IDF.\n",
    "Word2Vec learns from reading massive amounts of text and memorizing which words tend to appear in similar context. After being trained, it generates a 300 dimension vector for each words in a vocabulary with words of similar meaning being close to each other. <br>\n",
    "\n",
    "We visualise the embeddings below, first of BoW, followed by TD-IDF and then Word2Vec to see if the classes look well separated. We use SVD (singular value decomposition) to reduce the dimensions of the data down to two. "
   ]
  },
  {
   "cell_type": "code",
   "execution_count": 38,
   "metadata": {},
   "outputs": [],
   "source": [
    "#########################\n",
    "#Bag of Words Embeddings#\n",
    "#########################\n",
    "\n",
    "# using the train_test_split function 70/30 split\n",
    "x_train, x_test, y_train, y_test = train_test_split(tesco_tweets_df['text'], \n",
    "                                                   tesco_tweets_df['sentiment_category'],\n",
    "                                                   test_size = 0.3, random_state = 123)"
   ]
  },
  {
   "cell_type": "code",
   "execution_count": 39,
   "metadata": {},
   "outputs": [],
   "source": [
    "# now we apply same feature transformation to both x_train and x_test\n",
    "# we have already defined CountVectorizer above as `vector`\n",
    "x_train_BoW = vector.fit_transform(x_train)\n",
    "x_test_BoW = vector.fit_transform(x_test)"
   ]
  },
  {
   "cell_type": "code",
   "execution_count": 95,
   "metadata": {},
   "outputs": [
    {
     "data": {
      "image/png": "[encoded data removed]",
      "text/plain": [
       "<Figure size 576x360 with 1 Axes>"
      ]
     },
     "metadata": {
      "needs_background": "light"
     },
     "output_type": "display_data"
    }
   ],
   "source": [
    "# visualising embeddings in 2 dimensional space.\n",
    "def plot_LSA(test_data, test_labels, savepath = 'PCA_demo.csv', plot=True):\n",
    "    lsa = TruncatedSVD(n_components = 2)\n",
    "    lsa.fit(test_data)\n",
    "    lsa_scores = lsa.transform(test_data)\n",
    "    color_mapper = {label:idx for idx,label in enumerate(set(test_labels))}\n",
    "    color_column = [color_mapper[label] for label in test_labels]\n",
    "    colors = ['orange', 'powderblue', 'purple']\n",
    "    if plot:\n",
    "        plt.scatter(lsa_scores[:,0], lsa_scores[:,1], s=4, alpha = .5, c=color_column, cmap=matplotlib.colors.ListedColormap(colors))\n",
    "        label_1 = mpatches.Patch(color='orange', label='neutral')\n",
    "        label_2 = mpatches.Patch(color='powderblue', label='positive')\n",
    "        label_3 = mpatches.Patch(color='purple', label='negative')\n",
    "        plt.legend(handles=[label_1, label_2, label_3], prop={'size': 10})\n",
    "        \n",
    "        \n",
    "fit = plt.figure(figsize = (8,5))\n",
    "plot_LSA(x_train_BoW, y_train)\n",
    "plt.title('Visualising Bag-of-Words Embeddings')\n",
    "plt.show()"
   ]
  },
  {
   "cell_type": "markdown",
   "metadata": {},
   "source": [
    "The classes do not look well separated. This could be a feature of the embeddings or of the dimensionality reduction. We also take a look at TF-IDF and Word2Vec embeddings below."
   ]
  },
  {
   "cell_type": "code",
   "execution_count": 96,
   "metadata": {},
   "outputs": [
    {
     "data": {
      "image/png": "[encoded data removed]",
      "text/plain": [
       "<Figure size 576x360 with 1 Axes>"
      ]
     },
     "metadata": {
      "needs_background": "light"
     },
     "output_type": "display_data"
    }
   ],
   "source": [
    "###################\n",
    "#TF-IDF Embeddings#\n",
    "###################\n",
    "\n",
    "# vectorise using TfidfVectorizer()\n",
    "vector_Tfidf = TfidfVectorizer(max_features = 10000, min_df = 0.005)\n",
    "# now we apply same feature transformation to both x_train and x_test\n",
    "x_train_Tfidf = vector_Tfidf.fit_transform(x_train)\n",
    "x_test_Tfidf = vector_Tfidf.fit_transform(x_test)\n",
    "\n",
    "# visualise\n",
    "fit = plt.figure(figsize = (8,5))\n",
    "plot_LSA(x_train_Tfidf, y_train)\n",
    "plt.title('Visualising TD-IDF Embeddings')\n",
    "plt.show()"
   ]
  },
  {
   "cell_type": "code",
   "execution_count": 75,
   "metadata": {},
   "outputs": [],
   "source": [
    "#####################\n",
    "#Word2Vec Embeddings#\n",
    "#####################\n",
    "\n",
    "# we downloaded a large corpus on which the model was pre-trained.\n",
    "word2vec_path = \"GoogleNews-vectors-negative300.bin\"\n",
    "\n",
    "# we limit to 700000 to save on RAM and computing power\n",
    "word2vec = gensim.models.KeyedVectors.load_word2vec_format(word2vec_path, binary=True, limit = 700000)"
   ]
  },
  {
   "cell_type": "code",
   "execution_count": 77,
   "metadata": {},
   "outputs": [],
   "source": [
    "tesco_tweets_df['tokens'] = tesco_tweets_df['text'].apply(lambda x: word_tokenize(x))"
   ]
  },
  {
   "cell_type": "code",
   "execution_count": 79,
   "metadata": {},
   "outputs": [],
   "source": [
    "def get_average_word2vec(tokens_list, vector, generate_missing = False, k=300):\n",
    "    if len(tokens_list)<1:\n",
    "        return np.zeros(k)\n",
    "    if generate_missing:\n",
    "        vectorized = [vector[word] if word in vector else np.random.rand(k) for word in tokens_list]\n",
    "    else:\n",
    "        vectorized = [vector[word] if word in vector else np.zeros(k) for word in tokens_list]\n",
    "    length = len(vectorized)\n",
    "    summed = np.sum(vectorized, axis = 0)\n",
    "    averaged = np.divide(summed, length)\n",
    "    return averaged\n",
    "\n",
    "def get_word2vec_embeddings(vectors, tweets_df, generate_missing = False):\n",
    "    embeddings = tweets_df['tokens'].apply(lambda x: get_average_word2vec(x, vectors, generate_missing = generate_missing))\n",
    "    return list(embeddings)\n"
   ]
  },
  {
   "cell_type": "code",
   "execution_count": 80,
   "metadata": {},
   "outputs": [],
   "source": [
    "embeddings = get_word2vec_embeddings(word2vec, tesco_tweets_df)"
   ]
  },
  {
   "cell_type": "code",
   "execution_count": 81,
   "metadata": {},
   "outputs": [],
   "source": [
    "X_train_word2vec, X_test_word2vec, y_train_word2vec, y_test_word2vec = train_test_split(embeddings, tesco_tweets_df['sentiment_category'], \n",
    "                                                                                        test_size = 0.3, random_state = 123)"
   ]
  },
  {
   "cell_type": "code",
   "execution_count": 99,
   "metadata": {},
   "outputs": [
    {
     "data": {
      "image/png": "[encoded data removed]",
      "text/plain": [
       "<Figure size 576x360 with 1 Axes>"
      ]
     },
     "metadata": {
      "needs_background": "light"
     },
     "output_type": "display_data"
    }
   ],
   "source": [
    "# a visualisation of our new embedding\n",
    "fig = plt.figure(figsize = (8,5))\n",
    "plot_LSA(X_train_word2vec, y_train_word2vec)\n",
    "plt.title('Visualising Word2Vec Embedding')\n",
    "plt.show()"
   ]
  },
  {
   "cell_type": "markdown",
   "metadata": {},
   "source": [
    "Visually we see improvement in separation between classes in TF-IDF and Word2Vec compared to the simple Bag-of-Words embeddings. However, it's unclear whether classes are more separated under TF-IDF or Word2Vec.\n",
    "\n",
    "Therefore below, we assess a range of classifier models using both TF-IDF and Word2Vec embeddings to answer our data question."
   ]
  },
  {
   "cell_type": "markdown",
   "metadata": {},
   "source": [
    "### 5.2 Classifiers"
   ]
  },
  {
   "cell_type": "code",
   "execution_count": 159,
   "metadata": {},
   "outputs": [
    {
     "name": "stdout",
     "output_type": "stream",
     "text": [
      "accuracy 0.491694352159\n",
      "             precision    recall  f1-score   support\n",
      "\n",
      "   negative       1.00      0.06      0.12        80\n",
      "    neutral       0.74      0.34      0.47       109\n",
      "   positive       0.43      0.95      0.59       112\n",
      "\n",
      "avg / total       0.69      0.49      0.42       301\n",
      "\n"
     ]
    }
   ],
   "source": [
    "#########################\n",
    "#Naive-Bayes with TF-IDF#\n",
    "#########################\n",
    "\n",
    "nb = Pipeline([('vect', CountVectorizer()),\n",
    "               ('tfidf', TfidfTransformer()),\n",
    "               ('clf', MultinomialNB()),\n",
    "              ])\n",
    "x_train, x_test, y_train, y_test = train_test_split(tesco_tweets_df['text'], \n",
    "                                                   tesco_tweets_df['sentiment_category'],\n",
    "                                                   test_size = 0.3, random_state = 123)\n",
    "nb.fit(x_train, y_train)\n",
    "y_pred = nb.predict(x_test)\n",
    "print('accuracy %s' % accuracy_score(y_pred, y_test))\n",
    "print(classification_report(y_test, y_pred))"
   ]
  },
  {
   "cell_type": "code",
   "execution_count": 93,
   "metadata": {},
   "outputs": [
    {
     "name": "stdout",
     "output_type": "stream",
     "text": [
      "accuracy 0.56146179402\n",
      "             precision    recall  f1-score   support\n",
      "\n",
      "   negative       0.56      0.30      0.39        80\n",
      "    neutral       0.52      0.76      0.62       109\n",
      "   positive       0.63      0.55      0.59       112\n",
      "\n",
      "avg / total       0.57      0.56      0.55       301\n",
      "\n"
     ]
    }
   ],
   "source": [
    "###########################\n",
    "#Decision Tree with TF-IDF#\n",
    "###########################\n",
    "\n",
    "nb = Pipeline([('vect', CountVectorizer()),\n",
    "               ('tfidf', TfidfTransformer()),\n",
    "               ('clf', tree.DecisionTreeClassifier(random_state = 123)),\n",
    "              ])\n",
    "x_train, x_test, y_train, y_test = train_test_split(tesco_tweets_df['text'], \n",
    "                                                   tesco_tweets_df['sentiment_category'],\n",
    "                                                   test_size = 0.3, random_state = 123)\n",
    "nb.fit(x_train, y_train)\n",
    "\n",
    "y_pred = nb.predict(x_test)\n",
    "\n",
    "print('accuracy %s' % accuracy_score(y_pred, y_test))\n",
    "print(classification_report(y_test, y_pred))"
   ]
  },
  {
   "cell_type": "code",
   "execution_count": 155,
   "metadata": {},
   "outputs": [
    {
     "name": "stdout",
     "output_type": "stream",
     "text": [
      "accuracy 0.498338870432\n",
      "             precision    recall  f1-score   support\n",
      "\n",
      "   negative       0.43      0.44      0.43        80\n",
      "    neutral       0.55      0.50      0.53       109\n",
      "   positive       0.50      0.54      0.52       112\n",
      "\n",
      "avg / total       0.50      0.50      0.50       301\n",
      "\n"
     ]
    }
   ],
   "source": [
    "#############################\n",
    "#Decision Tree with Word2Vec#\n",
    "#############################\n",
    "\n",
    "model = tree.DecisionTreeClassifier(random_state = 123)\n",
    "model.fit(X_train_word2vec, y_train_word2vec)\n",
    "y_pred = model.predict(X_test_word2vec)\n",
    "print('accuracy %s' % accuracy_score(y_test_word2vec, y_pred))\n",
    "print(classification_report(y_test_word2vec, y_pred))"
   ]
  },
  {
   "cell_type": "code",
   "execution_count": 94,
   "metadata": {},
   "outputs": [
    {
     "name": "stdout",
     "output_type": "stream",
     "text": [
      "accuracy 0.627906976744\n",
      "             precision    recall  f1-score   support\n",
      "\n",
      "   negative       0.79      0.24      0.37        80\n",
      "    neutral       0.58      0.90      0.71       109\n",
      "   positive       0.67      0.64      0.65       112\n",
      "\n",
      "avg / total       0.67      0.63      0.60       301\n",
      "\n"
     ]
    }
   ],
   "source": [
    "###########################\n",
    "#Random Forest with TF-IDF#\n",
    "###########################\n",
    "\n",
    "nb = Pipeline([('vect', CountVectorizer()),\n",
    "               ('tfidf', TfidfTransformer()),\n",
    "               ('clf', RandomForestClassifier(random_state=123)),\n",
    "              ])\n",
    "x_train, x_test, y_train, y_test = train_test_split(tesco_tweets_df['text'], \n",
    "                                                   tesco_tweets_df['sentiment_category'],\n",
    "                                                   test_size = 0.3, random_state = 123)\n",
    "nb.fit(x_train, y_train)\n",
    "\n",
    "y_pred = nb.predict(x_test)\n",
    "\n",
    "print('accuracy %s' % accuracy_score(y_pred, y_test))\n",
    "print(classification_report(y_test, y_pred))"
   ]
  },
  {
   "cell_type": "code",
   "execution_count": 160,
   "metadata": {},
   "outputs": [
    {
     "name": "stdout",
     "output_type": "stream",
     "text": [
      "accuracy 0.485049833887\n",
      "             precision    recall  f1-score   support\n",
      "\n",
      "   negative       0.42      0.35      0.38        80\n",
      "    neutral       0.55      0.57      0.56       109\n",
      "   positive       0.46      0.50      0.48       112\n",
      "\n",
      "avg / total       0.48      0.49      0.48       301\n",
      "\n"
     ]
    }
   ],
   "source": [
    "############################\n",
    "#RandomForest with Word2Vec#\n",
    "############################\n",
    "\n",
    "model = RandomForestClassifier(random_state=123)\n",
    "model.fit(X_train_word2vec, y_train_word2vec)\n",
    "y_pred = model.predict(X_test_word2vec)\n",
    "print('accuracy %s' % accuracy_score(y_test_word2vec, y_pred))\n",
    "print(classification_report(y_test_word2vec, y_pred))"
   ]
  },
  {
   "cell_type": "code",
   "execution_count": 95,
   "metadata": {},
   "outputs": [
    {
     "name": "stdout",
     "output_type": "stream",
     "text": [
      "accuracy 0.611295681063\n",
      "             precision    recall  f1-score   support\n",
      "\n",
      "   negative       0.66      0.34      0.45        80\n",
      "    neutral       0.56      0.79      0.66       109\n",
      "   positive       0.66      0.63      0.65       112\n",
      "\n",
      "avg / total       0.63      0.61      0.60       301\n",
      "\n"
     ]
    }
   ],
   "source": [
    "#####################\n",
    "#Bagging with TF-IDF#\n",
    "#####################\n",
    "\n",
    "nb = Pipeline([('vect', CountVectorizer()),\n",
    "               ('tfidf', TfidfTransformer()),\n",
    "               ('clf', BaggingClassifier(tree.DecisionTreeClassifier(random_state=123))),\n",
    "              ])\n",
    "x_train, x_test, y_train, y_test = train_test_split(tesco_tweets_df['text'], \n",
    "                                                   tesco_tweets_df['sentiment_category'],\n",
    "                                                   test_size = 0.3, random_state = 123)\n",
    "nb.fit(x_train, y_train)\n",
    "\n",
    "y_pred = nb.predict(x_test)\n",
    "\n",
    "print('accuracy %s' % accuracy_score(y_pred, y_test))\n",
    "print(classification_report(y_test, y_pred))"
   ]
  },
  {
   "cell_type": "code",
   "execution_count": 161,
   "metadata": {},
   "outputs": [
    {
     "name": "stdout",
     "output_type": "stream",
     "text": [
      "accuracy 0.554817275748\n",
      "             precision    recall  f1-score   support\n",
      "\n",
      "   negative       0.51      0.31      0.39        80\n",
      "    neutral       0.59      0.59      0.59       109\n",
      "   positive       0.55      0.70      0.61       112\n",
      "\n",
      "avg / total       0.55      0.55      0.54       301\n",
      "\n"
     ]
    }
   ],
   "source": [
    "##################################\n",
    "#Bagging with Word2Vec Embeddings#\n",
    "##################################\n",
    "\n",
    "model = BaggingClassifier(tree.DecisionTreeClassifier(random_state=123))\n",
    "model.fit(X_train_word2vec, y_train_word2vec)\n",
    "y_pred = model.predict(X_test_word2vec)\n",
    "print('accuracy %s' % accuracy_score(y_test_word2vec, y_pred))\n",
    "print(classification_report(y_test_word2vec, y_pred))"
   ]
  },
  {
   "cell_type": "code",
   "execution_count": 96,
   "metadata": {},
   "outputs": [
    {
     "name": "stdout",
     "output_type": "stream",
     "text": [
      "accuracy 0.654485049834\n",
      "             precision    recall  f1-score   support\n",
      "\n",
      "   negative       0.78      0.31      0.45        80\n",
      "    neutral       0.61      0.89      0.72       109\n",
      "   positive       0.69      0.67      0.68       112\n",
      "\n",
      "avg / total       0.68      0.65      0.63       301\n",
      "\n"
     ]
    }
   ],
   "source": [
    "######################\n",
    "#Boosting with TF-IDF#\n",
    "######################\n",
    "\n",
    "nb = Pipeline([('vect', CountVectorizer()),\n",
    "               ('tfidf', TfidfTransformer()),\n",
    "               ('clf', GradientBoostingClassifier(random_state=123)),\n",
    "              ])\n",
    "x_train, x_test, y_train, y_test = train_test_split(tesco_tweets_df['text'], \n",
    "                                                   tesco_tweets_df['sentiment_category'],\n",
    "                                                   test_size = 0.3, random_state = 123)\n",
    "nb.fit(x_train, y_train)\n",
    "\n",
    "y_pred = nb.predict(x_test)\n",
    "\n",
    "print('accuracy %s' % accuracy_score(y_pred, y_test))\n",
    "print(classification_report(y_test, y_pred))"
   ]
  },
  {
   "cell_type": "code",
   "execution_count": 97,
   "metadata": {},
   "outputs": [
    {
     "name": "stdout",
     "output_type": "stream",
     "text": [
      "accuracy 0.641196013289\n",
      "             precision    recall  f1-score   support\n",
      "\n",
      "   negative       0.70      0.38      0.49        80\n",
      "    neutral       0.64      0.72      0.68       109\n",
      "   positive       0.62      0.75      0.68       112\n",
      "\n",
      "avg / total       0.65      0.64      0.63       301\n",
      "\n"
     ]
    }
   ],
   "source": [
    "########################\n",
    "#Linear SVM with TF-IDF#\n",
    "########################\n",
    "nb = Pipeline([('vect', CountVectorizer()),\n",
    "               ('tfidf', TfidfTransformer()),\n",
    "               ('clf', SGDClassifier(loss='hinge', penalty='l2',alpha=1e-3, random_state = 123, max_iter=5, tol=None)),\n",
    "              ])\n",
    "x_train, x_test, y_train, y_test = train_test_split(tesco_tweets_df['text'], \n",
    "                                                   tesco_tweets_df['sentiment_category'],\n",
    "                                                   test_size = 0.3, random_state = 123)\n",
    "nb.fit(x_train, y_train)\n",
    "\n",
    "y_pred = nb.predict(x_test)\n",
    "\n",
    "print('accuracy %s' % accuracy_score(y_pred, y_test))\n",
    "print(classification_report(y_test, y_pred))"
   ]
  },
  {
   "cell_type": "code",
   "execution_count": 156,
   "metadata": {},
   "outputs": [
    {
     "name": "stdout",
     "output_type": "stream",
     "text": [
      "accuracy 0.65780730897\n",
      "             precision    recall  f1-score   support\n",
      "\n",
      "   negative       0.63      0.45      0.53        80\n",
      "    neutral       0.69      0.79      0.74       109\n",
      "   positive       0.64      0.68      0.66       112\n",
      "\n",
      "avg / total       0.65      0.66      0.65       301\n",
      "\n"
     ]
    }
   ],
   "source": [
    "##############################\n",
    "#SVM with Word2Vec Embeddings#\n",
    "##############################\n",
    "\n",
    "model = SGDClassifier(loss='hinge', penalty='l2',alpha=1e-3, random_state = 123, max_iter=5, tol=None)\n",
    "model.fit(X_train_word2vec, y_train_word2vec)\n",
    "y_pred = model.predict(X_test_word2vec)\n",
    "print('accuracy %s' % accuracy_score(y_test_word2vec, y_pred))\n",
    "print(classification_report(y_test_word2vec, y_pred))"
   ]
  },
  {
   "cell_type": "code",
   "execution_count": 73,
   "metadata": {},
   "outputs": [
    {
     "name": "stdout",
     "output_type": "stream",
     "text": [
      "accuracy 0.634551495017\n",
      "             precision    recall  f1-score   support\n",
      "\n",
      "   negative       0.67      0.39      0.49        80\n",
      "    neutral       0.65      0.71      0.68       109\n",
      "   positive       0.61      0.74      0.67       112\n",
      "\n",
      "avg / total       0.64      0.63      0.62       301\n",
      "\n"
     ]
    }
   ],
   "source": [
    "#################################\n",
    "#Logistic Regression with TF-IDF#\n",
    "#################################\n",
    "\n",
    "nb = Pipeline([('vect', CountVectorizer()),\n",
    "               ('tfidf', TfidfTransformer()),\n",
    "               ('clf', LogisticRegression(C=1e5, random_state=123)),\n",
    "              ])\n",
    "x_train, x_test, y_train, y_test = train_test_split(tesco_tweets_df['text'], \n",
    "                                                   tesco_tweets_df['sentiment_category'],\n",
    "                                                   test_size = 0.3, random_state = 123)\n",
    "nb.fit(x_train, y_train)\n",
    "\n",
    "y_pred = nb.predict(x_test)\n",
    "\n",
    "print('accuracy %s' % accuracy_score(y_pred, y_test))\n",
    "print(classification_report(y_test, y_pred))"
   ]
  },
  {
   "cell_type": "code",
   "execution_count": 162,
   "metadata": {},
   "outputs": [
    {
     "name": "stdout",
     "output_type": "stream",
     "text": [
      "accuracy 0.518272425249\n",
      "             precision    recall  f1-score   support\n",
      "\n",
      "   negative       0.42      0.42      0.42        80\n",
      "    neutral       0.56      0.48      0.51       109\n",
      "   positive       0.55      0.62      0.58       112\n",
      "\n",
      "avg / total       0.52      0.52      0.52       301\n",
      "\n"
     ]
    }
   ],
   "source": [
    "###################################\n",
    "#Logistic Regression with Word2Vec#\n",
    "###################################\n",
    "\n",
    "model = LogisticRegression(C=1e5, random_state=123)\n",
    "model.fit(X_train_word2vec, y_train_word2vec)\n",
    "y_pred = model.predict(X_test_word2vec)\n",
    "print('accuracy %s' % accuracy_score(y_test_word2vec, y_pred))\n",
    "print(classification_report(y_test_word2vec, y_pred))"
   ]
  },
  {
   "cell_type": "code",
   "execution_count": 164,
   "metadata": {},
   "outputs": [
    {
     "name": "stdout",
     "output_type": "stream",
     "text": [
      "accuracy 0.541528239203\n",
      "             precision    recall  f1-score   support\n",
      "\n",
      "   negative       0.66      0.49      0.56        80\n",
      "    neutral       0.50      0.64      0.56       109\n",
      "   positive       0.53      0.48      0.50       112\n",
      "\n",
      "avg / total       0.55      0.54      0.54       301\n",
      "\n"
     ]
    }
   ],
   "source": [
    "#################\n",
    "#KNN with TF-IDF#\n",
    "#################\n",
    "\n",
    "nb = Pipeline([('vect', CountVectorizer()),\n",
    "               ('tfidf', TfidfTransformer()),\n",
    "               ('clf', KNeighborsClassifier()),\n",
    "              ])\n",
    "x_train, x_test, y_train, y_test = train_test_split(tesco_tweets_df['text'], \n",
    "                                                   tesco_tweets_df['sentiment_category'],\n",
    "                                                   test_size = 0.3, random_state = 123)\n",
    "nb.fit(x_train, y_train)\n",
    "\n",
    "y_pred = nb.predict(x_test)\n",
    "\n",
    "print('accuracy %s' % accuracy_score(y_pred, y_test))\n",
    "print(classification_report(y_test, y_pred))"
   ]
  },
  {
   "cell_type": "code",
   "execution_count": 165,
   "metadata": {},
   "outputs": [
    {
     "name": "stdout",
     "output_type": "stream",
     "text": [
      "accuracy 0.514950166113\n",
      "             precision    recall  f1-score   support\n",
      "\n",
      "   negative       0.42      0.31      0.36        80\n",
      "    neutral       0.72      0.39      0.51       109\n",
      "   positive       0.48      0.78      0.59       112\n",
      "\n",
      "avg / total       0.55      0.51      0.50       301\n",
      "\n"
     ]
    }
   ],
   "source": [
    "###################\n",
    "#KNN with Word2Vec#\n",
    "###################\n",
    "\n",
    "model = KNeighborsClassifier()\n",
    "model.fit(X_train_word2vec, y_train_word2vec)\n",
    "y_pred = model.predict(X_test_word2vec)\n",
    "print('accuracy %s' % accuracy_score(y_test_word2vec, y_pred))\n",
    "print(classification_report(y_test_word2vec, y_pred))"
   ]
  },
  {
   "cell_type": "code",
   "execution_count": 100,
   "metadata": {},
   "outputs": [
    {
     "name": "stdout",
     "output_type": "stream",
     "text": [
      "accuracy 0.644518272425\n",
      "             precision    recall  f1-score   support\n",
      "\n",
      "   negative       0.68      0.56      0.62        80\n",
      "    neutral       0.62      0.71      0.66       109\n",
      "   positive       0.65      0.64      0.65       112\n",
      "\n",
      "avg / total       0.65      0.64      0.64       301\n",
      "\n"
     ]
    }
   ],
   "source": [
    "#####################\n",
    "#Rocchio with TF-IDF#\n",
    "#####################\n",
    "\n",
    "nb = Pipeline([('vect', CountVectorizer()),\n",
    "               ('tfidf', TfidfTransformer()),\n",
    "               ('clf', NearestCentroid()),\n",
    "              ])\n",
    "x_train, x_test, y_train, y_test = train_test_split(tesco_tweets_df['text'], \n",
    "                                                   tesco_tweets_df['sentiment_category'],\n",
    "                                                   test_size = 0.3, random_state = 123)\n",
    "nb.fit(x_train, y_train)\n",
    "\n",
    "y_pred = nb.predict(x_test)\n",
    "\n",
    "print('accuracy %s' % accuracy_score(y_pred, y_test))\n",
    "print(classification_report(y_test, y_pred))"
   ]
  },
  {
   "cell_type": "code",
   "execution_count": 166,
   "metadata": {},
   "outputs": [
    {
     "name": "stdout",
     "output_type": "stream",
     "text": [
      "accuracy 0.544850498339\n",
      "             precision    recall  f1-score   support\n",
      "\n",
      "   negative       0.48      0.72      0.58        80\n",
      "    neutral       0.57      0.58      0.58       109\n",
      "   positive       0.61      0.38      0.47       112\n",
      "\n",
      "avg / total       0.56      0.54      0.54       301\n",
      "\n"
     ]
    }
   ],
   "source": [
    "#######################\n",
    "#Rocchio with Word2Vec#\n",
    "#######################\n",
    "\n",
    "model = NearestCentroid()\n",
    "model.fit(X_train_word2vec, y_train_word2vec)\n",
    "y_pred = model.predict(X_test_word2vec)\n",
    "print('accuracy %s' % accuracy_score(y_test_word2vec, y_pred))\n",
    "print(classification_report(y_test_word2vec, y_pred))"
   ]
  },
  {
   "cell_type": "markdown",
   "metadata": {},
   "source": [
    "### 5.4 [Conclusion - Data Question 2]"
   ]
  },
  {
   "cell_type": "markdown",
   "metadata": {},
   "source": [
    "**[Conclusion to data questions]** <br>\n",
    "Our Rocchio with TF-IDF embeddings classification model yielded the highest F1-score at 0.62 (this is lower than the threshold we set out in our brief of 0.7). Our SVM with Word2Vec embeddings classication model yielded the highest accuracy score of 0.66 (this is also lower than the threshold we set out in our brief of 0.7). We conclude that tweets are not easily classifiable based on sentiment.\n",
    "\n",
    "\n",
    "**[Avenues for further study and limitations of the model]** <br>\n",
    "1) Interestingly, classfication models using Word2Vec performs worse than TD-IDF, despite intuitively, Word2Vec takes into account of semantics whilst TF-IDF embeddings doesn't and so should perform better. This could be cause our dataset is relatively small with only 444 unique words and Word2Vec won't be able to capture word relationship in the embedding space with limited information. \n",
    "2) To improve our analysis we should look at more data we may also try to fine-tune the hyperparameters of our classification models to see if we could improve on model accuracy and F1-score.\n"
   ]
  }
 ],
 "metadata": {
  "kernelspec": {
   "display_name": "Python 3",
   "language": "python",
   "name": "python3"
  },
  "language_info": {
   "codemirror_mode": {
    "name": "ipython",
    "version": 3
   },
   "file_extension": ".py",
   "mimetype": "text/x-python",
   "name": "python",
   "nbconvert_exporter": "python",
   "pygments_lexer": "ipython3",
   "version": "3.7.0"
  }
 },
 "nbformat": 4,
 "nbformat_minor": 2
}
